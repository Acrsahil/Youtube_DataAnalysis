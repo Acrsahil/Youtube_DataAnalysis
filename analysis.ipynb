{
 "cells": [
  {
   "cell_type": "code",
   "execution_count": 1,
   "id": "5097d905-6301-4a65-a137-ec86a6e119b6",
   "metadata": {},
   "outputs": [],
   "source": [
    "from googleapiclient.discovery import build \n",
    "import os\n",
    "import pandas as pd\n",
    "from IPython.display import JSON"
   ]
  },
  {
   "cell_type": "code",
   "execution_count": 2,
   "id": "fcfce68e-773f-4a9f-9e09-81eb5ad03ef2",
   "metadata": {},
   "outputs": [],
   "source": [
    "# reading api_key from file\n",
    "api_key = \"\"\n",
    "with open(\"key.txt\",\"r\") as f:\n",
    "    api_key = f.read()"
   ]
  },
  {
   "cell_type": "code",
   "execution_count": 3,
   "id": "6d43e1d8-b373-4e0a-af6d-3e0679de5495",
   "metadata": {},
   "outputs": [],
   "source": [
    "    # Get credentials and create an API client\n",
    "\n",
    "api_service_name = \"youtube\"\n",
    "api_version = \"v3\"\n",
    "youtube = build (\n",
    "    api_service_name, api_version, developerKey=api_key )\n",
    "channel_id = \"UCX6OQ3DkcsbYNE6H8uQQuVA\""
   ]
  },
  {
   "cell_type": "code",
   "execution_count": 46,
   "id": "cec9fba6-428c-4184-ba80-590b42b61546",
   "metadata": {},
   "outputs": [
    {
     "name": "stdout",
     "output_type": "stream",
     "text": [
      "UUX6OQ3DkcsbYNE6H8uQQuVA\n"
     ]
    },
    {
     "data": {
      "application/json": {
       "etag": "aCp0UL0T_ia0g4bpG4UCxANVD8Q",
       "items": [
        {
         "contentDetails": {
          "videoId": "Tbn4cYCaZCk",
          "videoPublishedAt": "2025-04-16T17:00:15Z"
         },
         "etag": "Kvwt6WT0Ho9p7jrNwUx2dk6g9tQ",
         "id": "VVVYNk9RM0RrY3NiWU5FNkg4dVFRdVZBLlRibjRjWUNhWkNr",
         "kind": "youtube#playlistItem",
         "snippet": {
          "channelId": "UCX6OQ3DkcsbYNE6H8uQQuVA",
          "channelTitle": "MrBeast",
          "description": "",
          "playlistId": "UUX6OQ3DkcsbYNE6H8uQQuVA",
          "position": 0,
          "publishedAt": "2025-04-16T17:00:15Z",
          "resourceId": {
           "kind": "youtube#video",
           "videoId": "Tbn4cYCaZCk"
          },
          "thumbnails": {
           "default": {
            "height": 90,
            "url": "https://i.ytimg.com/vi/Tbn4cYCaZCk/default.jpg",
            "width": 120
           },
           "high": {
            "height": 360,
            "url": "https://i.ytimg.com/vi/Tbn4cYCaZCk/hqdefault.jpg",
            "width": 480
           },
           "maxres": {
            "height": 720,
            "url": "https://i.ytimg.com/vi/Tbn4cYCaZCk/maxresdefault.jpg",
            "width": 1280
           },
           "medium": {
            "height": 180,
            "url": "https://i.ytimg.com/vi/Tbn4cYCaZCk/mqdefault.jpg",
            "width": 320
           },
           "standard": {
            "height": 480,
            "url": "https://i.ytimg.com/vi/Tbn4cYCaZCk/sddefault.jpg",
            "width": 640
           }
          },
          "title": "Drift This Car, Win $10,000",
          "videoOwnerChannelId": "UCX6OQ3DkcsbYNE6H8uQQuVA",
          "videoOwnerChannelTitle": "MrBeast"
         }
        },
        {
         "contentDetails": {
          "videoId": "figrl0aOULs",
          "videoPublishedAt": "2025-04-12T16:00:01Z"
         },
         "etag": "VbN8quBjeIasIIHr_cJ2MfijRgo",
         "id": "VVVYNk9RM0RrY3NiWU5FNkg4dVFRdVZBLmZpZ3JsMGFPVUxz",
         "kind": "youtube#playlistItem",
         "snippet": {
          "channelId": "UCX6OQ3DkcsbYNE6H8uQQuVA",
          "channelTitle": "MrBeast",
          "description": "Buying 1 Hoodie = 100 Meals for people in need! Go get it now: https://www.doordash.com/p/dashmart-near-me\n\nThank you https://youtube.com/@DoorDash for teaming up to fight food insecurity.\n\nCheck out Sharing Excess at https://www.sharingexcess.com/\n\nNew Merch - https://mrbeast.store\n\nCheck out Viewstats! - https://www.viewstats.com/\n\nSUBSCRIBE OR I TAKE YOUR DOG\n╔═╦╗╔╦╗╔═╦═╦╦╦╦╗╔═╗\n║╚╣║║║╚╣╚╣╔╣╔╣║╚╣═╣ \n╠╗║╚╝║║╠╗║╚╣║║║║║═╣\n╚═╩══╩═╩═╩═╩╝╚╩═╩═╝\n\nFor any questions or inquiries regarding this video, please reach out to chucky@mrbeastbusiness.com\n\nMusic Provided by https://www.extrememusic.com\n\n----------------------------------------------------------------\nfollow all of these or i will kick you\n• Facebook - https://www.facebook.com/MrBeast6000/\n• Twitter - https://twitter.com/MrBeast\n•  Instagram - https://www.instagram.com/mrbeast\n•  Im Hiring! - https://www.mrbeastjobs.com/\n--------------------------------------------------------------------\n\n\nTerms and Conditions: For every limited edition MrBeast x DoorDash hoodie purchased on DoorDash from 04/12/25 to 5/9/25, DoorDash will donate $10 to Feeding America®, up to $50,000 total. $1 helps provide at least 10 meals secured by Feeding America® on behalf of local partner food banks.",
          "playlistId": "UUX6OQ3DkcsbYNE6H8uQQuVA",
          "position": 1,
          "publishedAt": "2025-04-12T16:00:01Z",
          "resourceId": {
           "kind": "youtube#video",
           "videoId": "figrl0aOULs"
          },
          "thumbnails": {
           "default": {
            "height": 90,
            "url": "https://i.ytimg.com/vi/figrl0aOULs/default.jpg",
            "width": 120
           },
           "high": {
            "height": 360,
            "url": "https://i.ytimg.com/vi/figrl0aOULs/hqdefault.jpg",
            "width": 480
           },
           "maxres": {
            "height": 720,
            "url": "https://i.ytimg.com/vi/figrl0aOULs/maxresdefault.jpg",
            "width": 1280
           },
           "medium": {
            "height": 180,
            "url": "https://i.ytimg.com/vi/figrl0aOULs/mqdefault.jpg",
            "width": 320
           },
           "standard": {
            "height": 480,
            "url": "https://i.ytimg.com/vi/figrl0aOULs/sddefault.jpg",
            "width": 640
           }
          },
          "title": "Watch This Video To Feed 1 Person In Need",
          "videoOwnerChannelId": "UCX6OQ3DkcsbYNE6H8uQQuVA",
          "videoOwnerChannelTitle": "MrBeast"
         }
        },
        {
         "contentDetails": {
          "videoId": "Uxc84UUrVHk",
          "videoPublishedAt": "2025-04-11T16:00:01Z"
         },
         "etag": "tbNWtJDa_RQER3WiCPJqyfbyCs8",
         "id": "VVVYNk9RM0RrY3NiWU5FNkg4dVFRdVZBLlV4Yzg0VVVyVkhr",
         "kind": "youtube#playlistItem",
         "snippet": {
          "channelId": "UCX6OQ3DkcsbYNE6H8uQQuVA",
          "channelTitle": "MrBeast",
          "description": "",
          "playlistId": "UUX6OQ3DkcsbYNE6H8uQQuVA",
          "position": 2,
          "publishedAt": "2025-04-11T16:00:01Z",
          "resourceId": {
           "kind": "youtube#video",
           "videoId": "Uxc84UUrVHk"
          },
          "thumbnails": {
           "default": {
            "height": 90,
            "url": "https://i.ytimg.com/vi/Uxc84UUrVHk/default.jpg",
            "width": 120
           },
           "high": {
            "height": 360,
            "url": "https://i.ytimg.com/vi/Uxc84UUrVHk/hqdefault.jpg",
            "width": 480
           },
           "maxres": {
            "height": 720,
            "url": "https://i.ytimg.com/vi/Uxc84UUrVHk/maxresdefault.jpg",
            "width": 1280
           },
           "medium": {
            "height": 180,
            "url": "https://i.ytimg.com/vi/Uxc84UUrVHk/mqdefault.jpg",
            "width": 320
           },
           "standard": {
            "height": 480,
            "url": "https://i.ytimg.com/vi/Uxc84UUrVHk/sddefault.jpg",
            "width": 640
           }
          },
          "title": "You Can Stop Child Labor",
          "videoOwnerChannelId": "UCX6OQ3DkcsbYNE6H8uQQuVA",
          "videoOwnerChannelTitle": "MrBeast"
         }
        },
        {
         "contentDetails": {
          "videoId": "BzKaMelDzqo",
          "videoPublishedAt": "2025-04-05T16:00:12Z"
         },
         "etag": "PuNrT89cZ369AtPsUFn01yhg-L4",
         "id": "VVVYNk9RM0RrY3NiWU5FNkg4dVFRdVZBLkJ6S2FNZWxEenFv",
         "kind": "youtube#playlistItem",
         "snippet": {
          "channelId": "UCX6OQ3DkcsbYNE6H8uQQuVA",
          "channelTitle": "MrBeast",
          "description": "New Merch - https://mrbeast.store\n\nCheck out Viewstats! - https://www.viewstats.com/\n\nSUBSCRIBE OR I TAKE YOUR DOG\n╔═╦╗╔╦╗╔═╦═╦╦╦╦╗╔═╗\n║╚╣║║║╚╣╚╣╔╣╔╣║╚╣═╣ \n╠╗║╚╝║║╠╗║╚╣║║║║║═╣\n╚═╩══╩═╩═╩═╩╝╚╩═╩═╝\n\nFor any questions or inquiries regarding this video, please reach out to chucky@mrbeastbusiness.com\n\n----------------------------------------------------------------\nfollow all of these or i will kick you\n• Facebook - https://www.facebook.com/MrBeast6000/\n• Twitter - https://twitter.com/MrBeast\n•  Instagram - https://www.instagram.com/mrbeast\n•  Im Hiring! - https://www.mrbeastjobs.com/\n--------------------------------------------------------------------",
          "playlistId": "UUX6OQ3DkcsbYNE6H8uQQuVA",
          "position": 3,
          "publishedAt": "2025-04-05T16:00:12Z",
          "resourceId": {
           "kind": "youtube#video",
           "videoId": "BzKaMelDzqo"
          },
          "thumbnails": {
           "default": {
            "height": 90,
            "url": "https://i.ytimg.com/vi/BzKaMelDzqo/default.jpg",
            "width": 120
           },
           "high": {
            "height": 360,
            "url": "https://i.ytimg.com/vi/BzKaMelDzqo/hqdefault.jpg",
            "width": 480
           },
           "maxres": {
            "height": 720,
            "url": "https://i.ytimg.com/vi/BzKaMelDzqo/maxresdefault.jpg",
            "width": 1280
           },
           "medium": {
            "height": 180,
            "url": "https://i.ytimg.com/vi/BzKaMelDzqo/mqdefault.jpg",
            "width": 320
           },
           "standard": {
            "height": 480,
            "url": "https://i.ytimg.com/vi/BzKaMelDzqo/sddefault.jpg",
            "width": 640
           }
          },
          "title": "How Fast Can I Go?",
          "videoOwnerChannelId": "UCX6OQ3DkcsbYNE6H8uQQuVA",
          "videoOwnerChannelTitle": "MrBeast"
         }
        },
        {
         "contentDetails": {
          "videoId": "4yx9ZJDfyKk",
          "videoPublishedAt": "2025-03-27T16:00:00Z"
         },
         "etag": "BZhUqMbLM2xg06kjUYwHTF-Pba4",
         "id": "VVVYNk9RM0RrY3NiWU5FNkg4dVFRdVZBLjR5eDlaSkRmeUtr",
         "kind": "youtube#playlistItem",
         "snippet": {
          "channelId": "UCX6OQ3DkcsbYNE6H8uQQuVA",
          "channelTitle": "MrBeast",
          "description": "I wish I was as good as AaronJudge BUT if you’re a @TMobile member and wanna watch him crush it all regular season long FOR FREE thanks to Magenta Status check out https://T-Mobile.com/MLB!  #TMobilePartner",
          "playlistId": "UUX6OQ3DkcsbYNE6H8uQQuVA",
          "position": 4,
          "publishedAt": "2025-03-27T16:00:00Z",
          "resourceId": {
           "kind": "youtube#video",
           "videoId": "4yx9ZJDfyKk"
          },
          "thumbnails": {
           "default": {
            "height": 90,
            "url": "https://i.ytimg.com/vi/4yx9ZJDfyKk/default.jpg",
            "width": 120
           },
           "high": {
            "height": 360,
            "url": "https://i.ytimg.com/vi/4yx9ZJDfyKk/hqdefault.jpg",
            "width": 480
           },
           "maxres": {
            "height": 720,
            "url": "https://i.ytimg.com/vi/4yx9ZJDfyKk/maxresdefault.jpg",
            "width": 1280
           },
           "medium": {
            "height": 180,
            "url": "https://i.ytimg.com/vi/4yx9ZJDfyKk/mqdefault.jpg",
            "width": 320
           },
           "standard": {
            "height": 480,
            "url": "https://i.ytimg.com/vi/4yx9ZJDfyKk/sddefault.jpg",
            "width": 640
           }
          },
          "title": "Baseball Tic Tac Toe vs MLB Pro",
          "videoOwnerChannelId": "UCX6OQ3DkcsbYNE6H8uQQuVA",
          "videoOwnerChannelTitle": "MrBeast"
         }
        }
       ],
       "kind": "youtube#playlistItemListResponse",
       "nextPageToken": "EAAaHlBUOkNBVWlFREpCTmpZNU9FRTRRVE14TmpFMFF6RQ",
       "pageInfo": {
        "resultsPerPage": 5,
        "totalResults": 862
       }
      },
      "text/plain": [
       "<IPython.core.display.JSON object>"
      ]
     },
     "execution_count": 46,
     "metadata": {
      "application/json": {
       "expanded": false,
       "root": "root"
      }
     },
     "output_type": "execute_result"
    }
   ],
   "source": [
    "# -*- coding: utf-8 -*-\n",
    "channel_id = \"UCX6OQ3DkcsbYNE6H8uQQuVA\"\n",
    "def get_channels(youtube,channel_id):\n",
    "    total_data = []\n",
    "    request = youtube.channels().list(\n",
    "        part=\"snippet,contentDetails,statistics\",\n",
    "        id=channel_id\n",
    "    )\n",
    "    response = request.execute()\n",
    "\n",
    "    # loop through items\n",
    "    for item in response['items']:\n",
    "        data = {\n",
    "                \"Channel_Name\" : item['snippet']['title'],\n",
    "                \"Suscribers\" : item['statistics']['subscriberCount'],\n",
    "                \"View\" : item['statistics']['viewCount'],\n",
    "                \"TotalVideo\" : item['statistics']['videoCount'],\n",
    "                \"PlaylistId\" : item['contentDetails']['relatedPlaylists']['uploads']\n",
    "               }\n",
    "\n",
    "    total_data.append(data)\n",
    "    return pd.DataFrame(total_data)\n",
    "\n",
    "def get_videos(youtube, video_id):\n",
    "    request = youtube.playlistItems().list(\n",
    "        part=\"snippet,contentDetails\",\n",
    "        playlistId=video_id\n",
    "    )\n",
    "    response = request.execute()\n",
    "    return JSON(response)\n",
    "\n",
    "channel_data = get_channels(youtube, channel_id)\n",
    "video_id = str(channel_data['PlaylistId'][0]).strip()\n",
    "print(video_id)\n",
    "\n",
    "get_videos(youtube, video_id)\n"
   ]
  },
  {
   "cell_type": "code",
   "execution_count": null,
   "id": "c320782a-f8aa-4d65-a37e-e9581a6be1ba",
   "metadata": {},
   "outputs": [],
   "source": []
  }
 ],
 "metadata": {
  "kernelspec": {
   "display_name": "Python 3 (ipykernel)",
   "language": "python",
   "name": "python3"
  },
  "language_info": {
   "codemirror_mode": {
    "name": "ipython",
    "version": 3
   },
   "file_extension": ".py",
   "mimetype": "text/x-python",
   "name": "python",
   "nbconvert_exporter": "python",
   "pygments_lexer": "ipython3",
   "version": "3.12.2"
  }
 },
 "nbformat": 4,
 "nbformat_minor": 5
}
