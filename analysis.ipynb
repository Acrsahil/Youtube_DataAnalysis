{
 "cells": [
  {
   "cell_type": "markdown",
   "id": "d1892b79-b2b0-450e-abbb-08e9c5102258",
   "metadata": {},
   "source": [
    "# "
   ]
  },
  {
   "cell_type": "code",
   "execution_count": 1,
   "id": "5097d905-6301-4a65-a137-ec86a6e119b6",
   "metadata": {},
   "outputs": [],
   "source": [
    "from googleapiclient.discovery import build \n",
    "import os\n",
    "import pandas as pd\n",
    "from IPython.display import JSON"
   ]
  },
  {
   "cell_type": "code",
   "execution_count": 2,
   "id": "fcfce68e-773f-4a9f-9e09-81eb5ad03ef2",
   "metadata": {},
   "outputs": [],
   "source": [
    "# reading api_key from file\n",
    "api_key = \"\"\n",
    "with open(\"key.txt\",\"r\") as f:\n",
    "    api_key = f.read()"
   ]
  },
  {
   "cell_type": "code",
   "execution_count": 3,
   "id": "6d43e1d8-b373-4e0a-af6d-3e0679de5495",
   "metadata": {},
   "outputs": [],
   "source": [
    "    # Get credentials and create an API client\n",
    "\n",
    "api_service_name = \"youtube\"\n",
    "api_version = \"v3\"\n",
    "youtube = build (\n",
    "    api_service_name, api_version, developerKey=api_key )\n",
    "channel_id = \"UCX6OQ3DkcsbYNE6H8uQQuVA\""
   ]
  },
  {
   "cell_type": "code",
   "execution_count": 4,
   "id": "cec9fba6-428c-4184-ba80-590b42b61546",
   "metadata": {},
   "outputs": [],
   "source": [
    "# -*- coding: utf-8 -*-\n",
    "channel_id = \"UCX6OQ3DkcsbYNE6H8uQQuVA\"\n",
    "def get_channels(youtube,channel_id):\n",
    "    total_data = []\n",
    "    request = youtube.channels().list(\n",
    "        part=\"snippet,contentDetails,statistics\",\n",
    "        id=channel_id\n",
    "    )\n",
    "    response = request.execute()\n",
    "\n",
    "    # loop through items\n",
    "    for item in response['items']:\n",
    "        data = {\n",
    "                \"Channel_Name\" : item['snippet']['title'],\n",
    "                \"Suscribers\" : item['statistics']['subscriberCount'],\n",
    "                \"View\" : item['statistics']['viewCount'],\n",
    "                \"TotalVideo\" : item['statistics']['videoCount'],\n",
    "                \"PlaylistId\" : item['contentDetails']['relatedPlaylists']['uploads']\n",
    "               }\n",
    "\n",
    "    total_data.append(data)\n",
    "    return pd.DataFrame(total_data)\n",
    "\n",
    "def get_videos(youtube, video_id):\n",
    "    video_ids = []\n",
    "    request = youtube.playlistItems().list(\n",
    "        part=\"snippet,contentDetails\",\n",
    "        playlistId=video_id,\n",
    "        maxResults = 50\n",
    "    )\n",
    "    response = request.execute()\n",
    "    \n",
    "    for item in response['items']:\n",
    "        video_ids.append(item['contentDetails']['videoId'])\n",
    "    next_page_token = response.get('nextPageToken')\n",
    "\n",
    "    while next_page_token is not None:\n",
    "        request = youtube.playlistItems().list(\n",
    "            part=\"snippet,contentDetails\",\n",
    "            playlistId=video_id,\n",
    "            maxResults = 50,\n",
    "            pageToken=next_page_token\n",
    "        )\n",
    "        response = request.execute()\n",
    "        for item in response['items']:\n",
    "            video_ids.append(item['contentDetails']['videoId'])\n",
    "        next_page_token = response.get('nextPageToken')\n",
    "        # print(len(video_ids))\n",
    "        \n",
    "    return video_ids\n",
    "\n",
    "channel_data = get_channels(youtube, channel_id)\n",
    "video_id = str(channel_data['PlaylistId'][0]).strip()\n",
    "video_ids =  get_videos(youtube, video_id)\n",
    "# print(video_ids[0])\n"
   ]
  },
  {
   "cell_type": "markdown",
   "id": "01177f25-1260-4169-815d-6a62dec04a7b",
   "metadata": {},
   "source": [
    "# "
   ]
  },
  {
   "cell_type": "code",
   "execution_count": 5,
   "id": "b5977922-d609-47cd-9cbd-c52288d08a9b",
   "metadata": {},
   "outputs": [
    {
     "data": {
      "application/json": {
       "etag": "5YYLR6id6Y_BcHUpORK9r1Z16VQ",
       "items": [
        {
         "contentDetails": {
          "caption": "false",
          "contentRating": {},
          "definition": "hd",
          "dimension": "2d",
          "duration": "PT40S",
          "licensedContent": true,
          "projection": "rectangular"
         },
         "etag": "cl3nPqQBIDOZBTM-I9CYu3CidYI",
         "id": "7K-yxGWYsnk",
         "kind": "youtube#video",
         "snippet": {
          "categoryId": "24",
          "channelId": "UCX6OQ3DkcsbYNE6H8uQQuVA",
          "channelTitle": "MrBeast",
          "defaultAudioLanguage": "en",
          "defaultLanguage": "en",
          "description": "",
          "liveBroadcastContent": "none",
          "localized": {
           "description": "",
           "title": "$10,000 Human Shuffleboard"
          },
          "publishedAt": "2025-04-22T16:30:14Z",
          "thumbnails": {
           "default": {
            "height": 90,
            "url": "https://i.ytimg.com/vi/7K-yxGWYsnk/default.jpg",
            "width": 120
           },
           "high": {
            "height": 360,
            "url": "https://i.ytimg.com/vi/7K-yxGWYsnk/hqdefault.jpg",
            "width": 480
           },
           "maxres": {
            "height": 720,
            "url": "https://i.ytimg.com/vi/7K-yxGWYsnk/maxresdefault.jpg",
            "width": 1280
           },
           "medium": {
            "height": 180,
            "url": "https://i.ytimg.com/vi/7K-yxGWYsnk/mqdefault.jpg",
            "width": 320
           },
           "standard": {
            "height": 480,
            "url": "https://i.ytimg.com/vi/7K-yxGWYsnk/sddefault.jpg",
            "width": 640
           }
          },
          "title": "$10,000 Human Shuffleboard"
         },
         "statistics": {
          "commentCount": "1745",
          "favoriteCount": "0",
          "likeCount": "510375",
          "viewCount": "21487029"
         }
        },
        {
         "contentDetails": {
          "caption": "false",
          "contentRating": {},
          "definition": "hd",
          "dimension": "2d",
          "duration": "PT20S",
          "licensedContent": true,
          "projection": "rectangular"
         },
         "etag": "9Cqzp7zmvfm0JVPjTd-_wmgjhHY",
         "id": "Tbn4cYCaZCk",
         "kind": "youtube#video",
         "snippet": {
          "categoryId": "24",
          "channelId": "UCX6OQ3DkcsbYNE6H8uQQuVA",
          "channelTitle": "MrBeast",
          "defaultAudioLanguage": "en",
          "defaultLanguage": "en",
          "description": "",
          "liveBroadcastContent": "none",
          "localized": {
           "description": "",
           "title": "Drift This Car, Win $10,000"
          },
          "publishedAt": "2025-04-16T17:00:15Z",
          "thumbnails": {
           "default": {
            "height": 90,
            "url": "https://i.ytimg.com/vi/Tbn4cYCaZCk/default.jpg",
            "width": 120
           },
           "high": {
            "height": 360,
            "url": "https://i.ytimg.com/vi/Tbn4cYCaZCk/hqdefault.jpg",
            "width": 480
           },
           "maxres": {
            "height": 720,
            "url": "https://i.ytimg.com/vi/Tbn4cYCaZCk/maxresdefault.jpg",
            "width": 1280
           },
           "medium": {
            "height": 180,
            "url": "https://i.ytimg.com/vi/Tbn4cYCaZCk/mqdefault.jpg",
            "width": 320
           },
           "standard": {
            "height": 480,
            "url": "https://i.ytimg.com/vi/Tbn4cYCaZCk/sddefault.jpg",
            "width": 640
           }
          },
          "title": "Drift This Car, Win $10,000"
         },
         "statistics": {
          "commentCount": "6681",
          "favoriteCount": "0",
          "likeCount": "3597274",
          "viewCount": "222159417"
         }
        },
        {
         "contentDetails": {
          "caption": "true",
          "contentRating": {},
          "definition": "hd",
          "dimension": "2d",
          "duration": "PT10M29S",
          "licensedContent": true,
          "projection": "rectangular"
         },
         "etag": "GFRXuafVJn4jb_qSAA0JzrXXUXI",
         "id": "figrl0aOULs",
         "kind": "youtube#video",
         "snippet": {
          "categoryId": "24",
          "channelId": "UCX6OQ3DkcsbYNE6H8uQQuVA",
          "channelTitle": "MrBeast",
          "defaultAudioLanguage": "en",
          "defaultLanguage": "en",
          "description": "Buying 1 Hoodie = 100 Meals for people in need! Go get it now: https://www.doordash.com/p/dashmart-near-me\n\nThank you https://youtube.com/@DoorDash for teaming up to fight food insecurity.\n\nCheck out Sharing Excess at https://www.sharingexcess.com/\n\nNew Merch - https://mrbeast.store\n\nCheck out Viewstats! - https://www.viewstats.com/\n\nSUBSCRIBE OR I TAKE YOUR DOG\n╔═╦╗╔╦╗╔═╦═╦╦╦╦╗╔═╗\n║╚╣║║║╚╣╚╣╔╣╔╣║╚╣═╣ \n╠╗║╚╝║║╠╗║╚╣║║║║║═╣\n╚═╩══╩═╩═╩═╩╝╚╩═╩═╝\n\nFor any questions or inquiries regarding this video, please reach out to chucky@mrbeastbusiness.com\n\nMusic Provided by https://www.extrememusic.com\n\n----------------------------------------------------------------\nfollow all of these or i will kick you\n• Facebook - https://www.facebook.com/MrBeast6000/\n• Twitter - https://twitter.com/MrBeast\n•  Instagram - https://www.instagram.com/mrbeast\n•  Im Hiring! - https://www.mrbeastjobs.com/\n--------------------------------------------------------------------\n\n\nTerms and Conditions: For every limited edition MrBeast x DoorDash hoodie purchased on DoorDash from 04/12/25 to 5/9/25, DoorDash will donate $10 to Feeding America®, up to $50,000 total. $1 helps provide at least 10 meals secured by Feeding America® on behalf of local partner food banks.",
          "liveBroadcastContent": "none",
          "localized": {
           "description": "Buying 1 Hoodie = 100 Meals for people in need! Go get it now: https://www.doordash.com/p/dashmart-near-me\n\nThank you https://youtube.com/@DoorDash for teaming up to fight food insecurity.\n\nCheck out Sharing Excess at https://www.sharingexcess.com/\n\nNew Merch - https://mrbeast.store\n\nCheck out Viewstats! - https://www.viewstats.com/\n\nSUBSCRIBE OR I TAKE YOUR DOG\n╔═╦╗╔╦╗╔═╦═╦╦╦╦╗╔═╗\n║╚╣║║║╚╣╚╣╔╣╔╣║╚╣═╣ \n╠╗║╚╝║║╠╗║╚╣║║║║║═╣\n╚═╩══╩═╩═╩═╩╝╚╩═╩═╝\n\nFor any questions or inquiries regarding this video, please reach out to chucky@mrbeastbusiness.com\n\nMusic Provided by https://www.extrememusic.com\n\n----------------------------------------------------------------\nfollow all of these or i will kick you\n• Facebook - https://www.facebook.com/MrBeast6000/\n• Twitter - https://twitter.com/MrBeast\n•  Instagram - https://www.instagram.com/mrbeast\n•  Im Hiring! - https://www.mrbeastjobs.com/\n--------------------------------------------------------------------\n\n\nTerms and Conditions: For every limited edition MrBeast x DoorDash hoodie purchased on DoorDash from 04/12/25 to 5/9/25, DoorDash will donate $10 to Feeding America®, up to $50,000 total. $1 helps provide at least 10 meals secured by Feeding America® on behalf of local partner food banks.",
           "title": "Watch This Video To Feed 1 Person In Need"
          },
          "publishedAt": "2025-04-12T16:00:01Z",
          "thumbnails": {
           "default": {
            "height": 90,
            "url": "https://i.ytimg.com/vi/figrl0aOULs/default.jpg",
            "width": 120
           },
           "high": {
            "height": 360,
            "url": "https://i.ytimg.com/vi/figrl0aOULs/hqdefault.jpg",
            "width": 480
           },
           "maxres": {
            "height": 720,
            "url": "https://i.ytimg.com/vi/figrl0aOULs/maxresdefault.jpg",
            "width": 1280
           },
           "medium": {
            "height": 180,
            "url": "https://i.ytimg.com/vi/figrl0aOULs/mqdefault.jpg",
            "width": 320
           },
           "standard": {
            "height": 480,
            "url": "https://i.ytimg.com/vi/figrl0aOULs/sddefault.jpg",
            "width": 640
           }
          },
          "title": "Watch This Video To Feed 1 Person In Need"
         },
         "statistics": {
          "commentCount": "62305",
          "favoriteCount": "0",
          "likeCount": "3274139",
          "viewCount": "43123009"
         }
        },
        {
         "contentDetails": {
          "caption": "false",
          "contentRating": {},
          "definition": "hd",
          "dimension": "2d",
          "duration": "PT58S",
          "licensedContent": true,
          "projection": "rectangular"
         },
         "etag": "B4RP011VfOv4YtIoXI9oSPcd4vM",
         "id": "Uxc84UUrVHk",
         "kind": "youtube#video",
         "snippet": {
          "categoryId": "24",
          "channelId": "UCX6OQ3DkcsbYNE6H8uQQuVA",
          "channelTitle": "MrBeast",
          "defaultAudioLanguage": "en",
          "defaultLanguage": "en",
          "description": "",
          "liveBroadcastContent": "none",
          "localized": {
           "description": "",
           "title": "You Can Stop Child Labor"
          },
          "publishedAt": "2025-04-11T16:00:01Z",
          "thumbnails": {
           "default": {
            "height": 90,
            "url": "https://i.ytimg.com/vi/Uxc84UUrVHk/default.jpg",
            "width": 120
           },
           "high": {
            "height": 360,
            "url": "https://i.ytimg.com/vi/Uxc84UUrVHk/hqdefault.jpg",
            "width": 480
           },
           "maxres": {
            "height": 720,
            "url": "https://i.ytimg.com/vi/Uxc84UUrVHk/maxresdefault.jpg",
            "width": 1280
           },
           "medium": {
            "height": 180,
            "url": "https://i.ytimg.com/vi/Uxc84UUrVHk/mqdefault.jpg",
            "width": 320
           },
           "standard": {
            "height": 480,
            "url": "https://i.ytimg.com/vi/Uxc84UUrVHk/sddefault.jpg",
            "width": 640
           }
          },
          "title": "You Can Stop Child Labor"
         },
         "statistics": {
          "commentCount": "14400",
          "favoriteCount": "0",
          "likeCount": "2368002",
          "viewCount": "52551173"
         }
        },
        {
         "contentDetails": {
          "caption": "false",
          "contentRating": {},
          "definition": "hd",
          "dimension": "2d",
          "duration": "PT18S",
          "licensedContent": true,
          "projection": "rectangular"
         },
         "etag": "_Bi7l_hkAwjM96RnktoSECvFuiI",
         "id": "BzKaMelDzqo",
         "kind": "youtube#video",
         "snippet": {
          "categoryId": "24",
          "channelId": "UCX6OQ3DkcsbYNE6H8uQQuVA",
          "channelTitle": "MrBeast",
          "defaultAudioLanguage": "en",
          "defaultLanguage": "en",
          "description": "New Merch - https://mrbeast.store\n\nCheck out Viewstats! - https://www.viewstats.com/\n\nSUBSCRIBE OR I TAKE YOUR DOG\n╔═╦╗╔╦╗╔═╦═╦╦╦╦╗╔═╗\n║╚╣║║║╚╣╚╣╔╣╔╣║╚╣═╣ \n╠╗║╚╝║║╠╗║╚╣║║║║║═╣\n╚═╩══╩═╩═╩═╩╝╚╩═╩═╝\n\nFor any questions or inquiries regarding this video, please reach out to chucky@mrbeastbusiness.com\n\n----------------------------------------------------------------\nfollow all of these or i will kick you\n• Facebook - https://www.facebook.com/MrBeast6000/\n• Twitter - https://twitter.com/MrBeast\n•  Instagram - https://www.instagram.com/mrbeast\n•  Im Hiring! - https://www.mrbeastjobs.com/\n--------------------------------------------------------------------",
          "liveBroadcastContent": "none",
          "localized": {
           "description": "New Merch - https://mrbeast.store\n\nCheck out Viewstats! - https://www.viewstats.com/\n\nSUBSCRIBE OR I TAKE YOUR DOG\n╔═╦╗╔╦╗╔═╦═╦╦╦╦╗╔═╗\n║╚╣║║║╚╣╚╣╔╣╔╣║╚╣═╣ \n╠╗║╚╝║║╠╗║╚╣║║║║║═╣\n╚═╩══╩═╩═╩═╩╝╚╩═╩═╝\n\nFor any questions or inquiries regarding this video, please reach out to chucky@mrbeastbusiness.com\n\n----------------------------------------------------------------\nfollow all of these or i will kick you\n• Facebook - https://www.facebook.com/MrBeast6000/\n• Twitter - https://twitter.com/MrBeast\n•  Instagram - https://www.instagram.com/mrbeast\n•  Im Hiring! - https://www.mrbeastjobs.com/\n--------------------------------------------------------------------",
           "title": "How Fast Can I Go?"
          },
          "publishedAt": "2025-04-05T16:00:12Z",
          "thumbnails": {
           "default": {
            "height": 90,
            "url": "https://i.ytimg.com/vi/BzKaMelDzqo/default.jpg",
            "width": 120
           },
           "high": {
            "height": 360,
            "url": "https://i.ytimg.com/vi/BzKaMelDzqo/hqdefault.jpg",
            "width": 480
           },
           "maxres": {
            "height": 720,
            "url": "https://i.ytimg.com/vi/BzKaMelDzqo/maxresdefault.jpg",
            "width": 1280
           },
           "medium": {
            "height": 180,
            "url": "https://i.ytimg.com/vi/BzKaMelDzqo/mqdefault.jpg",
            "width": 320
           },
           "standard": {
            "height": 480,
            "url": "https://i.ytimg.com/vi/BzKaMelDzqo/sddefault.jpg",
            "width": 640
           }
          },
          "title": "How Fast Can I Go?"
         },
         "statistics": {
          "commentCount": "7018",
          "favoriteCount": "0",
          "likeCount": "2067949",
          "viewCount": "110133512"
         }
        },
        {
         "contentDetails": {
          "caption": "false",
          "contentRating": {},
          "definition": "hd",
          "dimension": "2d",
          "duration": "PT27S",
          "licensedContent": true,
          "projection": "rectangular"
         },
         "etag": "d6QH-iyswRmA6UVOMfhBWH8pibo",
         "id": "4yx9ZJDfyKk",
         "kind": "youtube#video",
         "snippet": {
          "categoryId": "24",
          "channelId": "UCX6OQ3DkcsbYNE6H8uQQuVA",
          "channelTitle": "MrBeast",
          "defaultAudioLanguage": "en",
          "defaultLanguage": "en",
          "description": "I wish I was as good as AaronJudge BUT if you’re a @TMobile member and wanna watch him crush it all regular season long FOR FREE thanks to Magenta Status check out https://T-Mobile.com/MLB!  #TMobilePartner",
          "liveBroadcastContent": "none",
          "localized": {
           "description": "I wish I was as good as AaronJudge BUT if you’re a @TMobile member and wanna watch him crush it all regular season long FOR FREE thanks to Magenta Status check out https://T-Mobile.com/MLB!  #TMobilePartner",
           "title": "Baseball Tic Tac Toe vs MLB Pro"
          },
          "publishedAt": "2025-03-27T16:00:00Z",
          "thumbnails": {
           "default": {
            "height": 90,
            "url": "https://i.ytimg.com/vi/4yx9ZJDfyKk/default.jpg",
            "width": 120
           },
           "high": {
            "height": 360,
            "url": "https://i.ytimg.com/vi/4yx9ZJDfyKk/hqdefault.jpg",
            "width": 480
           },
           "maxres": {
            "height": 720,
            "url": "https://i.ytimg.com/vi/4yx9ZJDfyKk/maxresdefault.jpg",
            "width": 1280
           },
           "medium": {
            "height": 180,
            "url": "https://i.ytimg.com/vi/4yx9ZJDfyKk/mqdefault.jpg",
            "width": 320
           },
           "standard": {
            "height": 480,
            "url": "https://i.ytimg.com/vi/4yx9ZJDfyKk/sddefault.jpg",
            "width": 640
           }
          },
          "title": "Baseball Tic Tac Toe vs MLB Pro"
         },
         "statistics": {
          "commentCount": "7256",
          "favoriteCount": "0",
          "likeCount": "1213785",
          "viewCount": "42207455"
         }
        },
        {
         "contentDetails": {
          "caption": "false",
          "contentRating": {},
          "definition": "hd",
          "dimension": "2d",
          "duration": "PT34S",
          "licensedContent": true,
          "projection": "rectangular"
         },
         "etag": "RJGxlja3FBMfROAZ2IKPled_zxk",
         "id": "kPa_S6jN9ls",
         "kind": "youtube#video",
         "snippet": {
          "categoryId": "24",
          "channelId": "UCX6OQ3DkcsbYNE6H8uQQuVA",
          "channelTitle": "MrBeast",
          "defaultAudioLanguage": "en",
          "defaultLanguage": "en",
          "description": "#ad",
          "liveBroadcastContent": "none",
          "localized": {
           "description": "#ad",
           "title": "Could You Win This Obstacle Course?"
          },
          "publishedAt": "2025-03-25T16:15:01Z",
          "thumbnails": {
           "default": {
            "height": 90,
            "url": "https://i.ytimg.com/vi/kPa_S6jN9ls/default.jpg",
            "width": 120
           },
           "high": {
            "height": 360,
            "url": "https://i.ytimg.com/vi/kPa_S6jN9ls/hqdefault.jpg",
            "width": 480
           },
           "maxres": {
            "height": 720,
            "url": "https://i.ytimg.com/vi/kPa_S6jN9ls/maxresdefault.jpg",
            "width": 1280
           },
           "medium": {
            "height": 180,
            "url": "https://i.ytimg.com/vi/kPa_S6jN9ls/mqdefault.jpg",
            "width": 320
           },
           "standard": {
            "height": 480,
            "url": "https://i.ytimg.com/vi/kPa_S6jN9ls/sddefault.jpg",
            "width": 640
           }
          },
          "title": "Could You Win This Obstacle Course?"
         },
         "statistics": {
          "commentCount": "9907",
          "favoriteCount": "0",
          "likeCount": "1284987",
          "viewCount": "60048556"
         }
        },
        {
         "contentDetails": {
          "caption": "false",
          "contentRating": {},
          "definition": "hd",
          "dimension": "2d",
          "duration": "PT36S",
          "licensedContent": true,
          "projection": "rectangular"
         },
         "etag": "tex0LoMY2WSeVw4_v-KapHGZFaE",
         "id": "69g-YcbmgQA",
         "kind": "youtube#video",
         "snippet": {
          "categoryId": "24",
          "channelId": "UCX6OQ3DkcsbYNE6H8uQQuVA",
          "channelTitle": "MrBeast",
          "defaultAudioLanguage": "en",
          "defaultLanguage": "en",
          "description": "",
          "liveBroadcastContent": "none",
          "localized": {
           "description": "",
           "title": "Find Your Dog, Win $10,000"
          },
          "publishedAt": "2025-03-23T16:00:01Z",
          "thumbnails": {
           "default": {
            "height": 90,
            "url": "https://i.ytimg.com/vi/69g-YcbmgQA/default.jpg",
            "width": 120
           },
           "high": {
            "height": 360,
            "url": "https://i.ytimg.com/vi/69g-YcbmgQA/hqdefault.jpg",
            "width": 480
           },
           "maxres": {
            "height": 720,
            "url": "https://i.ytimg.com/vi/69g-YcbmgQA/maxresdefault.jpg",
            "width": 1280
           },
           "medium": {
            "height": 180,
            "url": "https://i.ytimg.com/vi/69g-YcbmgQA/mqdefault.jpg",
            "width": 320
           },
           "standard": {
            "height": 480,
            "url": "https://i.ytimg.com/vi/69g-YcbmgQA/sddefault.jpg",
            "width": 640
           }
          },
          "title": "Find Your Dog, Win $10,000"
         },
         "statistics": {
          "commentCount": "7673",
          "favoriteCount": "0",
          "likeCount": "8185741",
          "viewCount": "226669719"
         }
        },
        {
         "contentDetails": {
          "caption": "true",
          "contentRating": {},
          "definition": "hd",
          "dimension": "2d",
          "duration": "PT13M23S",
          "licensedContent": true,
          "projection": "rectangular"
         },
         "etag": "2WGg2MhN_0ZwMS1eYV5UqGXyse8",
         "id": "aKq8bkY5eTU",
         "kind": "youtube#video",
         "snippet": {
          "categoryId": "24",
          "channelId": "UCX6OQ3DkcsbYNE6H8uQQuVA",
          "channelTitle": "MrBeast",
          "defaultAudioLanguage": "en",
          "defaultLanguage": "en",
          "description": "It’s crazy we actually did this\nOur new Feastables Peanut Butter Cups roll out over the next two weeks into every Target, Walmart, and 7-Eleven across America 👉 https://fstbls.com/5mj6dv\nEnter the Feastables Beast Games Sweepstakes! https://fstbls.com/uub0d4\n\nThanks @drewbinsky  for joining on Snake Island, go subscribe to his channel!\n\nNew Merch - https://mrbeast.store\n\nCheck out Viewstats! - https://www.viewstats.com/\n\nSUBSCRIBE OR I TAKE YOUR DOG\n╔═╦╗╔╦╗╔═╦═╦╦╦╦╗╔═╗\n║╚╣║║║╚╣╚╣╔╣╔╣║╚╣═╣ \n╠╗║╚╝║║╠╗║╚╣║║║║║═╣\n╚═╩══╩═╩═╩═╩╝╚╩═╩═╝\n\nFor any questions or inquiries regarding this video, please reach out to chucky@mrbeastbusiness.com\n\nMusic Provided by https://www.extrememusic.com\n\n----------------------------------------------------------------\nfollow all of these or i will kick you\n• Facebook - https://www.facebook.com/MrBeast6000/\n• Twitter - https://twitter.com/MrBeast\n•  Instagram - https://www.instagram.com/mrbeast\n•  Im Hiring! - https://www.mrbeastjobs.com/\n--------------------------------------------------------------------\n\nNO PURCHASE NECESSARY.  Must be 18+.  For no purchase method of entry and complete details go to https://fstbls.com/jfythq",
          "liveBroadcastContent": "none",
          "localized": {
           "description": "It’s crazy we actually did this\nOur new Feastables Peanut Butter Cups roll out over the next two weeks into every Target, Walmart, and 7-Eleven across America 👉 https://fstbls.com/5mj6dv\nEnter the Feastables Beast Games Sweepstakes! https://fstbls.com/uub0d4\n\nThanks @drewbinsky  for joining on Snake Island, go subscribe to his channel!\n\nNew Merch - https://mrbeast.store\n\nCheck out Viewstats! - https://www.viewstats.com/\n\nSUBSCRIBE OR I TAKE YOUR DOG\n╔═╦╗╔╦╗╔═╦═╦╦╦╦╗╔═╗\n║╚╣║║║╚╣╚╣╔╣╔╣║╚╣═╣ \n╠╗║╚╝║║╠╗║╚╣║║║║║═╣\n╚═╩══╩═╩═╩═╩╝╚╩═╩═╝\n\nFor any questions or inquiries regarding this video, please reach out to chucky@mrbeastbusiness.com\n\nMusic Provided by https://www.extrememusic.com\n\n----------------------------------------------------------------\nfollow all of these or i will kick you\n• Facebook - https://www.facebook.com/MrBeast6000/\n• Twitter - https://twitter.com/MrBeast\n•  Instagram - https://www.instagram.com/mrbeast\n•  Im Hiring! - https://www.mrbeastjobs.com/\n--------------------------------------------------------------------\n\nNO PURCHASE NECESSARY.  Must be 18+.  For no purchase method of entry and complete details go to https://fstbls.com/jfythq",
           "title": "I Survived The 5 Deadliest Places On Earth"
          },
          "publishedAt": "2025-03-22T16:00:00Z",
          "thumbnails": {
           "default": {
            "height": 90,
            "url": "https://i.ytimg.com/vi/aKq8bkY5eTU/default.jpg",
            "width": 120
           },
           "high": {
            "height": 360,
            "url": "https://i.ytimg.com/vi/aKq8bkY5eTU/hqdefault.jpg",
            "width": 480
           },
           "maxres": {
            "height": 720,
            "url": "https://i.ytimg.com/vi/aKq8bkY5eTU/maxresdefault.jpg",
            "width": 1280
           },
           "medium": {
            "height": 180,
            "url": "https://i.ytimg.com/vi/aKq8bkY5eTU/mqdefault.jpg",
            "width": 320
           },
           "standard": {
            "height": 480,
            "url": "https://i.ytimg.com/vi/aKq8bkY5eTU/sddefault.jpg",
            "width": 640
           }
          },
          "title": "I Survived The 5 Deadliest Places On Earth"
         },
         "statistics": {
          "commentCount": "51539",
          "favoriteCount": "0",
          "likeCount": "2627285",
          "viewCount": "100271657"
         }
        },
        {
         "contentDetails": {
          "caption": "false",
          "contentRating": {},
          "definition": "hd",
          "dimension": "2d",
          "duration": "PT13S",
          "licensedContent": true,
          "projection": "rectangular"
         },
         "etag": "MAd9py8kJ_i8GGlg2CpJmv1BzIw",
         "id": "TNtpUQbW4mg",
         "kind": "youtube#video",
         "snippet": {
          "categoryId": "24",
          "channelId": "UCX6OQ3DkcsbYNE6H8uQQuVA",
          "channelTitle": "MrBeast",
          "defaultAudioLanguage": "en",
          "defaultLanguage": "en",
          "description": "",
          "liveBroadcastContent": "none",
          "localized": {
           "description": "",
           "title": "This Is How The Pyramids Were Built"
          },
          "publishedAt": "2025-03-18T16:00:00Z",
          "thumbnails": {
           "default": {
            "height": 90,
            "url": "https://i.ytimg.com/vi/TNtpUQbW4mg/default.jpg",
            "width": 120
           },
           "high": {
            "height": 360,
            "url": "https://i.ytimg.com/vi/TNtpUQbW4mg/hqdefault.jpg",
            "width": 480
           },
           "maxres": {
            "height": 720,
            "url": "https://i.ytimg.com/vi/TNtpUQbW4mg/maxresdefault.jpg",
            "width": 1280
           },
           "medium": {
            "height": 180,
            "url": "https://i.ytimg.com/vi/TNtpUQbW4mg/mqdefault.jpg",
            "width": 320
           },
           "standard": {
            "height": 480,
            "url": "https://i.ytimg.com/vi/TNtpUQbW4mg/sddefault.jpg",
            "width": 640
           }
          },
          "title": "This Is How The Pyramids Were Built"
         },
         "statistics": {
          "commentCount": "13501",
          "favoriteCount": "0",
          "likeCount": "5138088",
          "viewCount": "134462721"
         }
        },
        {
         "contentDetails": {
          "caption": "false",
          "contentRating": {},
          "definition": "hd",
          "dimension": "2d",
          "duration": "PT16S",
          "licensedContent": true,
          "projection": "rectangular"
         },
         "etag": "BHOmfBbVbwX83xU80A_oRCu_ybQ",
         "id": "TgCm8oDmxOk",
         "kind": "youtube#video",
         "snippet": {
          "categoryId": "24",
          "channelId": "UCX6OQ3DkcsbYNE6H8uQQuVA",
          "channelTitle": "MrBeast",
          "defaultAudioLanguage": "en",
          "defaultLanguage": "en",
          "description": "",
          "liveBroadcastContent": "none",
          "localized": {
           "description": "",
           "title": "I Crashed One Of The Most Expensive Cars In The World"
          },
          "publishedAt": "2025-03-14T16:00:00Z",
          "thumbnails": {
           "default": {
            "height": 90,
            "url": "https://i.ytimg.com/vi/TgCm8oDmxOk/default.jpg",
            "width": 120
           },
           "high": {
            "height": 360,
            "url": "https://i.ytimg.com/vi/TgCm8oDmxOk/hqdefault.jpg",
            "width": 480
           },
           "maxres": {
            "height": 720,
            "url": "https://i.ytimg.com/vi/TgCm8oDmxOk/maxresdefault.jpg",
            "width": 1280
           },
           "medium": {
            "height": 180,
            "url": "https://i.ytimg.com/vi/TgCm8oDmxOk/mqdefault.jpg",
            "width": 320
           },
           "standard": {
            "height": 480,
            "url": "https://i.ytimg.com/vi/TgCm8oDmxOk/sddefault.jpg",
            "width": 640
           }
          },
          "title": "I Crashed One Of The Most Expensive Cars In The World"
         },
         "statistics": {
          "commentCount": "6335",
          "favoriteCount": "0",
          "likeCount": "1999287",
          "viewCount": "62262847"
         }
        },
        {
         "contentDetails": {
          "caption": "false",
          "contentRating": {},
          "definition": "hd",
          "dimension": "2d",
          "duration": "PT30S",
          "licensedContent": true,
          "projection": "rectangular"
         },
         "etag": "CAlA-8nD2MAUC1LemG-yQWUgjRQ",
         "id": "954wJ3uHVAk",
         "kind": "youtube#video",
         "snippet": {
          "categoryId": "24",
          "channelId": "UCX6OQ3DkcsbYNE6H8uQQuVA",
          "channelTitle": "MrBeast",
          "defaultAudioLanguage": "en",
          "defaultLanguage": "en",
          "description": "",
          "liveBroadcastContent": "none",
          "localized": {
           "description": "",
           "title": "Last One To Fall Wins"
          },
          "publishedAt": "2025-03-08T18:05:23Z",
          "thumbnails": {
           "default": {
            "height": 90,
            "url": "https://i.ytimg.com/vi/954wJ3uHVAk/default.jpg",
            "width": 120
           },
           "high": {
            "height": 360,
            "url": "https://i.ytimg.com/vi/954wJ3uHVAk/hqdefault.jpg",
            "width": 480
           },
           "maxres": {
            "height": 720,
            "url": "https://i.ytimg.com/vi/954wJ3uHVAk/maxresdefault.jpg",
            "width": 1280
           },
           "medium": {
            "height": 180,
            "url": "https://i.ytimg.com/vi/954wJ3uHVAk/mqdefault.jpg",
            "width": 320
           },
           "standard": {
            "height": 480,
            "url": "https://i.ytimg.com/vi/954wJ3uHVAk/sddefault.jpg",
            "width": 640
           }
          },
          "title": "Last One To Fall Wins"
         },
         "statistics": {
          "commentCount": "7365",
          "favoriteCount": "0",
          "likeCount": "3382006",
          "viewCount": "95280324"
         }
        },
        {
         "contentDetails": {
          "caption": "true",
          "contentRating": {},
          "definition": "hd",
          "dimension": "2d",
          "duration": "PT38M38S",
          "licensedContent": true,
          "projection": "rectangular"
         },
         "etag": "GTWsGZsUq4hC4MHwFGgmCgeuLsQ",
         "id": "zajUgQLviwk",
         "kind": "youtube#video",
         "snippet": {
          "categoryId": "24",
          "channelId": "UCX6OQ3DkcsbYNE6H8uQQuVA",
          "channelTitle": "MrBeast",
          "defaultAudioLanguage": "en",
          "defaultLanguage": "en",
          "description": "Seeing these past contestants battle it out for $500,000 was wild\nLaunch a store on Shopify and I’ll buy from 100 random stores that do ▸ https://shopify.com/mrbeast\n\nNew Merch - https://mrbeast.store\n\nCheck out Viewstats! - https://www.viewstats.com/\n\nThank you to @LoveSacHQ  for the Lovesac MovieSacs in Charcoal Wombat Phur, check them out at https://www.lovesac.com\n\nSUBSCRIBE OR I TAKE YOUR DOG\n╔═╦╗╔╦╗╔═╦═╦╦╦╦╗╔═╗\n║╚╣║║║╚╣╚╣╔╣╔╣║╚╣═╣ \n╠╗║╚╝║║╠╗║╚╣║║║║║═╣\n╚═╩══╩═╩═╩═╩╝╚╩═╩═╝\n\nFor any questions or inquiries regarding this video, please reach out to chucky@mrbeastbusiness.com\n\nMusic Provided by https://www.extrememusic.com\n\n----------------------------------------------------------------\nfollow all of these or i will kick you\n• Facebook - https://www.facebook.com/MrBeast6000/\n• Twitter - https://twitter.com/MrBeast\n•  Instagram - https://www.instagram.com/mrbeast\n•  Im Hiring! - https://www.mrbeastjobs.com/\n--------------------------------------------------------------------",
          "liveBroadcastContent": "none",
          "localized": {
           "description": "Seeing these past contestants battle it out for $500,000 was wild\nLaunch a store on Shopify and I’ll buy from 100 random stores that do ▸ https://shopify.com/mrbeast\n\nNew Merch - https://mrbeast.store\n\nCheck out Viewstats! - https://www.viewstats.com/\n\nThank you to @LoveSacHQ  for the Lovesac MovieSacs in Charcoal Wombat Phur, check them out at https://www.lovesac.com\n\nSUBSCRIBE OR I TAKE YOUR DOG\n╔═╦╗╔╦╗╔═╦═╦╦╦╦╗╔═╗\n║╚╣║║║╚╣╚╣╔╣╔╣║╚╣═╣ \n╠╗║╚╝║║╠╗║╚╣║║║║║═╣\n╚═╩══╩═╩═╩═╩╝╚╩═╩═╝\n\nFor any questions or inquiries regarding this video, please reach out to chucky@mrbeastbusiness.com\n\nMusic Provided by https://www.extrememusic.com\n\n----------------------------------------------------------------\nfollow all of these or i will kick you\n• Facebook - https://www.facebook.com/MrBeast6000/\n• Twitter - https://twitter.com/MrBeast\n•  Instagram - https://www.instagram.com/mrbeast\n•  Im Hiring! - https://www.mrbeastjobs.com/\n--------------------------------------------------------------------",
           "title": "Last to Leave Their Circle Wins $500,000"
          },
          "publishedAt": "2025-03-01T17:00:01Z",
          "thumbnails": {
           "default": {
            "height": 90,
            "url": "https://i.ytimg.com/vi/zajUgQLviwk/default.jpg",
            "width": 120
           },
           "high": {
            "height": 360,
            "url": "https://i.ytimg.com/vi/zajUgQLviwk/hqdefault.jpg",
            "width": 480
           },
           "maxres": {
            "height": 720,
            "url": "https://i.ytimg.com/vi/zajUgQLviwk/maxresdefault.jpg",
            "width": 1280
           },
           "medium": {
            "height": 180,
            "url": "https://i.ytimg.com/vi/zajUgQLviwk/mqdefault.jpg",
            "width": 320
           },
           "standard": {
            "height": 480,
            "url": "https://i.ytimg.com/vi/zajUgQLviwk/sddefault.jpg",
            "width": 640
           }
          },
          "title": "Last to Leave Their Circle Wins $500,000"
         },
         "statistics": {
          "commentCount": "73575",
          "favoriteCount": "0",
          "likeCount": "2341630",
          "viewCount": "105034528"
         }
        },
        {
         "contentDetails": {
          "caption": "false",
          "contentRating": {},
          "definition": "hd",
          "dimension": "2d",
          "duration": "PT50S",
          "licensedContent": true,
          "projection": "rectangular"
         },
         "etag": "MyZxA3IoHgSGPbD9Ln2_gSKcjV0",
         "id": "PXevNM0awlI",
         "kind": "youtube#video",
         "snippet": {
          "categoryId": "24",
          "channelId": "UCX6OQ3DkcsbYNE6H8uQQuVA",
          "channelTitle": "MrBeast",
          "defaultAudioLanguage": "en",
          "defaultLanguage": "en",
          "description": "",
          "liveBroadcastContent": "none",
          "localized": {
           "description": "",
           "title": "Highest Away From Me Wins $10,000"
          },
          "publishedAt": "2025-02-28T17:00:00Z",
          "thumbnails": {
           "default": {
            "height": 90,
            "url": "https://i.ytimg.com/vi/PXevNM0awlI/default.jpg",
            "width": 120
           },
           "high": {
            "height": 360,
            "url": "https://i.ytimg.com/vi/PXevNM0awlI/hqdefault.jpg",
            "width": 480
           },
           "maxres": {
            "height": 720,
            "url": "https://i.ytimg.com/vi/PXevNM0awlI/maxresdefault.jpg",
            "width": 1280
           },
           "medium": {
            "height": 180,
            "url": "https://i.ytimg.com/vi/PXevNM0awlI/mqdefault.jpg",
            "width": 320
           },
           "standard": {
            "height": 480,
            "url": "https://i.ytimg.com/vi/PXevNM0awlI/sddefault.jpg",
            "width": 640
           }
          },
          "title": "Highest Away From Me Wins $10,000"
         },
         "statistics": {
          "commentCount": "9106",
          "favoriteCount": "0",
          "likeCount": "8047939",
          "viewCount": "235415852"
         }
        },
        {
         "contentDetails": {
          "caption": "false",
          "contentRating": {},
          "definition": "hd",
          "dimension": "2d",
          "duration": "PT41S",
          "licensedContent": true,
          "projection": "rectangular"
         },
         "etag": "h8IqEu8GI70AM2-nkqDK_7ommiI",
         "id": "PuQ5UxKUY48",
         "kind": "youtube#video",
         "snippet": {
          "categoryId": "24",
          "channelId": "UCX6OQ3DkcsbYNE6H8uQQuVA",
          "channelTitle": "MrBeast",
          "defaultAudioLanguage": "en",
          "defaultLanguage": "en",
          "description": "",
          "liveBroadcastContent": "none",
          "localized": {
           "description": "",
           "title": "Find The Human, Win $10,000"
          },
          "publishedAt": "2025-02-24T17:00:02Z",
          "thumbnails": {
           "default": {
            "height": 90,
            "url": "https://i.ytimg.com/vi/PuQ5UxKUY48/default.jpg",
            "width": 120
           },
           "high": {
            "height": 360,
            "url": "https://i.ytimg.com/vi/PuQ5UxKUY48/hqdefault.jpg",
            "width": 480
           },
           "maxres": {
            "height": 720,
            "url": "https://i.ytimg.com/vi/PuQ5UxKUY48/maxresdefault.jpg",
            "width": 1280
           },
           "medium": {
            "height": 180,
            "url": "https://i.ytimg.com/vi/PuQ5UxKUY48/mqdefault.jpg",
            "width": 320
           },
           "standard": {
            "height": 480,
            "url": "https://i.ytimg.com/vi/PuQ5UxKUY48/sddefault.jpg",
            "width": 640
           }
          },
          "title": "Find The Human, Win $10,000"
         },
         "statistics": {
          "commentCount": "7063",
          "favoriteCount": "0",
          "likeCount": "5667715",
          "viewCount": "177908393"
         }
        },
        {
         "contentDetails": {
          "caption": "false",
          "contentRating": {},
          "definition": "hd",
          "dimension": "2d",
          "duration": "PT1M1S",
          "licensedContent": true,
          "projection": "rectangular"
         },
         "etag": "9OSIOWxhHPkh0mS_ShIFmh8XibU",
         "id": "L5ihmu87xTE",
         "kind": "youtube#video",
         "snippet": {
          "categoryId": "24",
          "channelId": "UCX6OQ3DkcsbYNE6H8uQQuVA",
          "channelTitle": "MrBeast",
          "defaultAudioLanguage": "en",
          "defaultLanguage": "en",
          "description": "",
          "liveBroadcastContent": "none",
          "localized": {
           "description": "",
           "title": "Find This Stranger, Win $10,000"
          },
          "publishedAt": "2025-02-19T18:00:00Z",
          "thumbnails": {
           "default": {
            "height": 90,
            "url": "https://i.ytimg.com/vi/L5ihmu87xTE/default.jpg",
            "width": 120
           },
           "high": {
            "height": 360,
            "url": "https://i.ytimg.com/vi/L5ihmu87xTE/hqdefault.jpg",
            "width": 480
           },
           "maxres": {
            "height": 720,
            "url": "https://i.ytimg.com/vi/L5ihmu87xTE/maxresdefault.jpg",
            "width": 1280
           },
           "medium": {
            "height": 180,
            "url": "https://i.ytimg.com/vi/L5ihmu87xTE/mqdefault.jpg",
            "width": 320
           },
           "standard": {
            "height": 480,
            "url": "https://i.ytimg.com/vi/L5ihmu87xTE/sddefault.jpg",
            "width": 640
           }
          },
          "title": "Find This Stranger, Win $10,000"
         },
         "statistics": {
          "commentCount": "9539",
          "favoriteCount": "0",
          "likeCount": "12253707",
          "viewCount": "307246382"
         }
        },
        {
         "contentDetails": {
          "caption": "false",
          "contentRating": {},
          "definition": "hd",
          "dimension": "2d",
          "duration": "PT25S",
          "licensedContent": true,
          "projection": "rectangular"
         },
         "etag": "MN82M31XvxhZWY1uHjdJLQwUu-0",
         "id": "nAiKLoCP-kU",
         "kind": "youtube#video",
         "snippet": {
          "categoryId": "24",
          "channelId": "UCX6OQ3DkcsbYNE6H8uQQuVA",
          "channelTitle": "MrBeast",
          "defaultAudioLanguage": "en",
          "defaultLanguage": "en",
          "description": "",
          "liveBroadcastContent": "none",
          "localized": {
           "description": "",
           "title": "Reach the Money, Win $10,000"
          },
          "publishedAt": "2025-02-14T18:15:00Z",
          "thumbnails": {
           "default": {
            "height": 90,
            "url": "https://i.ytimg.com/vi/nAiKLoCP-kU/default.jpg",
            "width": 120
           },
           "high": {
            "height": 360,
            "url": "https://i.ytimg.com/vi/nAiKLoCP-kU/hqdefault.jpg",
            "width": 480
           },
           "maxres": {
            "height": 720,
            "url": "https://i.ytimg.com/vi/nAiKLoCP-kU/maxresdefault.jpg",
            "width": 1280
           },
           "medium": {
            "height": 180,
            "url": "https://i.ytimg.com/vi/nAiKLoCP-kU/mqdefault.jpg",
            "width": 320
           },
           "standard": {
            "height": 480,
            "url": "https://i.ytimg.com/vi/nAiKLoCP-kU/sddefault.jpg",
            "width": 640
           }
          },
          "title": "Reach the Money, Win $10,000"
         },
         "statistics": {
          "commentCount": "7166",
          "favoriteCount": "0",
          "likeCount": "5976922",
          "viewCount": "250035810"
         }
        },
        {
         "contentDetails": {
          "caption": "true",
          "contentRating": {},
          "definition": "hd",
          "dimension": "2d",
          "duration": "PT21M43S",
          "licensedContent": true,
          "projection": "rectangular"
         },
         "etag": "BgqSEJ3m8dipfFbMB9Y0oFerMDs",
         "id": "NDsO1LT_0lw",
         "kind": "youtube#video",
         "snippet": {
          "categoryId": "24",
          "channelId": "UCX6OQ3DkcsbYNE6H8uQQuVA",
          "channelTitle": "MrBeast",
          "defaultAudioLanguage": "en",
          "defaultLanguage": "en",
          "description": "I can’t believe we were allowed to do this\nSeason 2 of swarms is out now! You can even find a Gold Swarm worth $10,000! Grab yours now at Walmart, Target, Amazon, or top toy retailers worldwide. This video Includes promoted content in partnership with Moose Toys.\n\nSee Dr. Zahi Hawass LIVE in a city near you: https://www.hawasszahi.com/2025tour\n\nFilmed in Egypt at the Giza Pyramids, in collaboration with the Egypt Film Commission\nwww.egyptfilming.com\nMr. Ahmed S. Badawi\nMrs. Riham Elghazali\nMr. Abdallah Kamel\n\nThanks to the Ministry of Tourism and Antiquities. \n\nSpecial Thanks:\nLeslie Greif\nNia Samara Paine\nMostafa Lotfy\n\nNew Merch - https://mrbeast.store\n\nCheck out Viewstats! - https://www.viewstats.com/\n\nSUBSCRIBE OR I TAKE YOUR DOG\n╔═╦╗╔╦╗╔═╦═╦╦╦╦╗╔═╗\n║╚╣║║║╚╣╚╣╔╣╔╣║╚╣═╣ \n╠╗║╚╝║║╠╗║╚╣║║║║║═╣\n╚═╩══╩═╩═╩═╩╝╚╩═╩═╝\n\nFor any questions or inquiries regarding this video, please reach out to chucky@mrbeastbusiness.com\n\nMusic Provided by https://www.extrememusic.com\n\n----------------------------------------------------------------\nfollow all of these or i will kick you\n• Facebook - https://www.facebook.com/MrBeast6000/\n• Twitter - https://twitter.com/MrBeast\n•  Instagram - https://www.instagram.com/mrbeast\n•  Im Hiring! - https://www.mrbeastjobs.com/\n--------------------------------------------------------------------",
          "liveBroadcastContent": "none",
          "localized": {
           "description": "I can’t believe we were allowed to do this\nSeason 2 of swarms is out now! You can even find a Gold Swarm worth $10,000! Grab yours now at Walmart, Target, Amazon, or top toy retailers worldwide. This video Includes promoted content in partnership with Moose Toys.\n\nSee Dr. Zahi Hawass LIVE in a city near you: https://www.hawasszahi.com/2025tour\n\nFilmed in Egypt at the Giza Pyramids, in collaboration with the Egypt Film Commission\nwww.egyptfilming.com\nMr. Ahmed S. Badawi\nMrs. Riham Elghazali\nMr. Abdallah Kamel\n\nThanks to the Ministry of Tourism and Antiquities. \n\nSpecial Thanks:\nLeslie Greif\nNia Samara Paine\nMostafa Lotfy\n\nNew Merch - https://mrbeast.store\n\nCheck out Viewstats! - https://www.viewstats.com/\n\nSUBSCRIBE OR I TAKE YOUR DOG\n╔═╦╗╔╦╗╔═╦═╦╦╦╦╗╔═╗\n║╚╣║║║╚╣╚╣╔╣╔╣║╚╣═╣ \n╠╗║╚╝║║╠╗║╚╣║║║║║═╣\n╚═╩══╩═╩═╩═╩╝╚╩═╩═╝\n\nFor any questions or inquiries regarding this video, please reach out to chucky@mrbeastbusiness.com\n\nMusic Provided by https://www.extrememusic.com\n\n----------------------------------------------------------------\nfollow all of these or i will kick you\n• Facebook - https://www.facebook.com/MrBeast6000/\n• Twitter - https://twitter.com/MrBeast\n•  Instagram - https://www.instagram.com/mrbeast\n•  Im Hiring! - https://www.mrbeastjobs.com/\n--------------------------------------------------------------------",
           "title": "I Spent 100 Hours Inside The Pyramids!"
          },
          "publishedAt": "2025-02-08T17:00:00Z",
          "thumbnails": {
           "default": {
            "height": 90,
            "url": "https://i.ytimg.com/vi/NDsO1LT_0lw/default.jpg",
            "width": 120
           },
           "high": {
            "height": 360,
            "url": "https://i.ytimg.com/vi/NDsO1LT_0lw/hqdefault.jpg",
            "width": 480
           },
           "maxres": {
            "height": 720,
            "url": "https://i.ytimg.com/vi/NDsO1LT_0lw/maxresdefault.jpg",
            "width": 1280
           },
           "medium": {
            "height": 180,
            "url": "https://i.ytimg.com/vi/NDsO1LT_0lw/mqdefault.jpg",
            "width": 320
           },
           "standard": {
            "height": 480,
            "url": "https://i.ytimg.com/vi/NDsO1LT_0lw/sddefault.jpg",
            "width": 640
           }
          },
          "title": "I Spent 100 Hours Inside The Pyramids!"
         },
         "statistics": {
          "commentCount": "98996",
          "favoriteCount": "0",
          "likeCount": "5039820",
          "viewCount": "181288820"
         }
        },
        {
         "contentDetails": {
          "caption": "true",
          "contentRating": {},
          "definition": "hd",
          "dimension": "2d",
          "duration": "PT34M46S",
          "licensedContent": true,
          "projection": "rectangular"
         },
         "etag": "q-0TSNDOTyVEM4GU58DRDrALdyM",
         "id": "sF5LYGgKbUA",
         "kind": "youtube#video",
         "snippet": {
          "categoryId": "24",
          "channelId": "UCX6OQ3DkcsbYNE6H8uQQuVA",
          "channelTitle": "MrBeast",
          "defaultAudioLanguage": "en",
          "defaultLanguage": "en",
          "description": "Watch Beast Games now on Prime Video: https://unfur.ly/BeastGames\n\nNew Merch - https://mrbeast.store\n\nCheck out Viewstats! - https://www.viewstats.com/\n\nSUBSCRIBE OR I TAKE YOUR DOG\n╔═╦╗╔╦╗╔═╦═╦╦╦╦╗╔═╗\n║╚╣║║║╚╣╚╣╔╣╔╣║╚╣═╣ \n╠╗║╚╝║║╠╗║╚╣║║║║║═╣\n╚═╩══╩═╩═╩═╩╝╚╩═╩═╝\n\nFor any questions or inquiries regarding this video, please reach out to chucky@mrbeastbusiness.com\n\nMusic Provided by https://www.extrememusic.com\n\n----------------------------------------------------------------\nfollow all of these or i will kick you\n• Facebook - https://www.facebook.com/MrBeast6000/\n• Twitter - https://twitter.com/MrBeast\n•  Instagram - https://www.instagram.com/mrbeast\n•  Im Hiring! - https://www.mrbeastjobs.com/\n--------------------------------------------------------------------\n\nNO PURCHASE NECESSARY. Must be 13 or older to enter. Subscribe at youtube.com/mrbeast between1/17/25-1/27/25 to enter. Subject to rules at https://bit.ly/MrBeastIphone. Prize is iPhone 16 128GB (no phone service included). Void where prohibited.",
          "liveBroadcastContent": "none",
          "localized": {
           "description": "Watch Beast Games now on Prime Video: https://unfur.ly/BeastGames\n\nNew Merch - https://mrbeast.store\n\nCheck out Viewstats! - https://www.viewstats.com/\n\nSUBSCRIBE OR I TAKE YOUR DOG\n╔═╦╗╔╦╗╔═╦═╦╦╦╦╗╔═╗\n║╚╣║║║╚╣╚╣╔╣╔╣║╚╣═╣ \n╠╗║╚╝║║╠╗║╚╣║║║║║═╣\n╚═╩══╩═╩═╩═╩╝╚╩═╩═╝\n\nFor any questions or inquiries regarding this video, please reach out to chucky@mrbeastbusiness.com\n\nMusic Provided by https://www.extrememusic.com\n\n----------------------------------------------------------------\nfollow all of these or i will kick you\n• Facebook - https://www.facebook.com/MrBeast6000/\n• Twitter - https://twitter.com/MrBeast\n•  Instagram - https://www.instagram.com/mrbeast\n•  Im Hiring! - https://www.mrbeastjobs.com/\n--------------------------------------------------------------------\n\nNO PURCHASE NECESSARY. Must be 13 or older to enter. Subscribe at youtube.com/mrbeast between1/17/25-1/27/25 to enter. Subject to rules at https://bit.ly/MrBeastIphone. Prize is iPhone 16 128GB (no phone service included). Void where prohibited.",
           "title": "Every Minute One Person Is Eliminated"
          },
          "publishedAt": "2025-01-25T17:00:01Z",
          "thumbnails": {
           "default": {
            "height": 90,
            "url": "https://i.ytimg.com/vi/sF5LYGgKbUA/default.jpg",
            "width": 120
           },
           "high": {
            "height": 360,
            "url": "https://i.ytimg.com/vi/sF5LYGgKbUA/hqdefault.jpg",
            "width": 480
           },
           "maxres": {
            "height": 720,
            "url": "https://i.ytimg.com/vi/sF5LYGgKbUA/maxresdefault.jpg",
            "width": 1280
           },
           "medium": {
            "height": 180,
            "url": "https://i.ytimg.com/vi/sF5LYGgKbUA/mqdefault.jpg",
            "width": 320
           },
           "standard": {
            "height": 480,
            "url": "https://i.ytimg.com/vi/sF5LYGgKbUA/sddefault.jpg",
            "width": 640
           }
          },
          "title": "Every Minute One Person Is Eliminated"
         },
         "statistics": {
          "commentCount": "72009",
          "favoriteCount": "0",
          "likeCount": "2751492",
          "viewCount": "109229245"
         }
        },
        {
         "contentDetails": {
          "caption": "false",
          "contentRating": {},
          "definition": "hd",
          "dimension": "2d",
          "duration": "PT43S",
          "licensedContent": true,
          "projection": "rectangular"
         },
         "etag": "1XLBtc6LmujnLJvHONH0-geCVPM",
         "id": "MFpWEKN9c6Y",
         "kind": "youtube#video",
         "snippet": {
          "categoryId": "24",
          "channelId": "UCX6OQ3DkcsbYNE6H8uQQuVA",
          "channelTitle": "MrBeast",
          "defaultAudioLanguage": "en",
          "defaultLanguage": "en",
          "description": "",
          "liveBroadcastContent": "none",
          "localized": {
           "description": "",
           "title": "Last Person Hanging Wins $10,000"
          },
          "publishedAt": "2025-01-21T17:00:03Z",
          "thumbnails": {
           "default": {
            "height": 90,
            "url": "https://i.ytimg.com/vi/MFpWEKN9c6Y/default.jpg",
            "width": 120
           },
           "high": {
            "height": 360,
            "url": "https://i.ytimg.com/vi/MFpWEKN9c6Y/hqdefault.jpg",
            "width": 480
           },
           "maxres": {
            "height": 720,
            "url": "https://i.ytimg.com/vi/MFpWEKN9c6Y/maxresdefault.jpg",
            "width": 1280
           },
           "medium": {
            "height": 180,
            "url": "https://i.ytimg.com/vi/MFpWEKN9c6Y/mqdefault.jpg",
            "width": 320
           },
           "standard": {
            "height": 480,
            "url": "https://i.ytimg.com/vi/MFpWEKN9c6Y/sddefault.jpg",
            "width": 640
           }
          },
          "title": "Last Person Hanging Wins $10,000"
         },
         "statistics": {
          "commentCount": "11606",
          "favoriteCount": "0",
          "likeCount": "10248285",
          "viewCount": "320408558"
         }
        },
        {
         "contentDetails": {
          "caption": "false",
          "contentRating": {},
          "definition": "hd",
          "dimension": "2d",
          "duration": "PT17S",
          "licensedContent": true,
          "projection": "rectangular"
         },
         "etag": "R-tGRpDp4DyPJXonkGWv1imTYL8",
         "id": "TRxMLLuWIhw",
         "kind": "youtube#video",
         "snippet": {
          "categoryId": "24",
          "channelId": "UCX6OQ3DkcsbYNE6H8uQQuVA",
          "channelTitle": "MrBeast",
          "defaultAudioLanguage": "en",
          "defaultLanguage": "en",
          "description": "Terms and Conditions: https://bit.ly/MrBeastIphone",
          "liveBroadcastContent": "none",
          "localized": {
           "description": "Terms and Conditions: https://bit.ly/MrBeastIphone",
           "title": "Subscribe For An iPhone"
          },
          "publishedAt": "2025-01-17T17:00:00Z",
          "thumbnails": {
           "default": {
            "height": 90,
            "url": "https://i.ytimg.com/vi/TRxMLLuWIhw/default.jpg",
            "width": 120
           },
           "high": {
            "height": 360,
            "url": "https://i.ytimg.com/vi/TRxMLLuWIhw/hqdefault.jpg",
            "width": 480
           },
           "maxres": {
            "height": 720,
            "url": "https://i.ytimg.com/vi/TRxMLLuWIhw/maxresdefault.jpg",
            "width": 1280
           },
           "medium": {
            "height": 180,
            "url": "https://i.ytimg.com/vi/TRxMLLuWIhw/mqdefault.jpg",
            "width": 320
           },
           "standard": {
            "height": 480,
            "url": "https://i.ytimg.com/vi/TRxMLLuWIhw/sddefault.jpg",
            "width": 640
           }
          },
          "title": "Subscribe For An iPhone"
         },
         "statistics": {
          "commentCount": "172180",
          "favoriteCount": "0",
          "likeCount": "16461971",
          "viewCount": "136246774"
         }
        },
        {
         "contentDetails": {
          "caption": "true",
          "contentRating": {},
          "definition": "hd",
          "dimension": "2d",
          "duration": "PT15M31S",
          "licensedContent": true,
          "projection": "rectangular"
         },
         "etag": "GenhlCE7GEHOCPBTGWteMCNbuSs",
         "id": "SM66GDRyIVY",
         "kind": "youtube#video",
         "snippet": {
          "categoryId": "24",
          "channelId": "UCX6OQ3DkcsbYNE6H8uQQuVA",
          "channelTitle": "MrBeast",
          "defaultAudioLanguage": "en",
          "defaultLanguage": "en",
          "description": "Thank you for making this video possible\nROMP: https://rompglobal.org/beastmode\nMartin Bionics: https://martinbionics.com/mrbeast/ \nCure: https://walkagain.cure.org/kenya \nHand-in-Hand: https://linktr.ee/handinhand_ngo \nSTAND: https://stand.ngo/doc/ \nUgani: https://ugani.org/ \nExceed: https://www.exceed-worldwide.org/ \nProsthetic One: https://prosthetic1.com/ \nKai Davis: https://www.kaidavisprosthetics.com/ \n\nNew Merch - https://mrbeast.store\n\nCheck out Viewstats! - https://www.viewstats.com/\n\nSUBSCRIBE OR I TAKE YOUR DOG\n╔═╦╗╔╦╗╔═╦═╦╦╦╦╗╔═╗\n║╚╣║║║╚╣╚╣╔╣╔╣║╚╣═╣ \n╠╗║╚╝║║╠╗║╚╣║║║║║═╣\n╚═╩══╩═╩═╩═╩╝╚╩═╩═╝\n\nFor any questions or inquiries regarding this video, please reach out to chucky@mrbeastbusiness.com\n\nMusic Provided by https://www.extrememusic.com\n\n----------------------------------------------------------------\nfollow all of these or i will kick you\n• Facebook - https://www.facebook.com/MrBeast6000/\n• Twitter - https://twitter.com/MrBeast\n•  Instagram - https://www.instagram.com/mrbeast\n•  Im Hiring! - https://www.mrbeastjobs.com/\n--------------------------------------------------------------------",
          "liveBroadcastContent": "none",
          "localized": {
           "description": "Thank you for making this video possible\nROMP: https://rompglobal.org/beastmode\nMartin Bionics: https://martinbionics.com/mrbeast/ \nCure: https://walkagain.cure.org/kenya \nHand-in-Hand: https://linktr.ee/handinhand_ngo \nSTAND: https://stand.ngo/doc/ \nUgani: https://ugani.org/ \nExceed: https://www.exceed-worldwide.org/ \nProsthetic One: https://prosthetic1.com/ \nKai Davis: https://www.kaidavisprosthetics.com/ \n\nNew Merch - https://mrbeast.store\n\nCheck out Viewstats! - https://www.viewstats.com/\n\nSUBSCRIBE OR I TAKE YOUR DOG\n╔═╦╗╔╦╗╔═╦═╦╦╦╦╗╔═╗\n║╚╣║║║╚╣╚╣╔╣╔╣║╚╣═╣ \n╠╗║╚╝║║╠╗║╚╣║║║║║═╣\n╚═╩══╩═╩═╩═╩╝╚╩═╩═╝\n\nFor any questions or inquiries regarding this video, please reach out to chucky@mrbeastbusiness.com\n\nMusic Provided by https://www.extrememusic.com\n\n----------------------------------------------------------------\nfollow all of these or i will kick you\n• Facebook - https://www.facebook.com/MrBeast6000/\n• Twitter - https://twitter.com/MrBeast\n•  Instagram - https://www.instagram.com/mrbeast\n•  Im Hiring! - https://www.mrbeastjobs.com/\n--------------------------------------------------------------------",
           "title": "I Helped 2,000 People Walk Again"
          },
          "publishedAt": "2025-01-11T17:00:02Z",
          "thumbnails": {
           "default": {
            "height": 90,
            "url": "https://i.ytimg.com/vi/SM66GDRyIVY/default.jpg",
            "width": 120
           },
           "high": {
            "height": 360,
            "url": "https://i.ytimg.com/vi/SM66GDRyIVY/hqdefault.jpg",
            "width": 480
           },
           "maxres": {
            "height": 720,
            "url": "https://i.ytimg.com/vi/SM66GDRyIVY/maxresdefault.jpg",
            "width": 1280
           },
           "medium": {
            "height": 180,
            "url": "https://i.ytimg.com/vi/SM66GDRyIVY/mqdefault.jpg",
            "width": 320
           },
           "standard": {
            "height": 480,
            "url": "https://i.ytimg.com/vi/SM66GDRyIVY/sddefault.jpg",
            "width": 640
           }
          },
          "title": "I Helped 2,000 People Walk Again"
         },
         "statistics": {
          "commentCount": "52966",
          "favoriteCount": "0",
          "likeCount": "2785848",
          "viewCount": "99997900"
         }
        },
        {
         "contentDetails": {
          "caption": "false",
          "contentRating": {},
          "definition": "hd",
          "dimension": "2d",
          "duration": "PT32S",
          "licensedContent": true,
          "projection": "rectangular"
         },
         "etag": "fOxn87o0cN5wUbvc6qAKNIyc8k0",
         "id": "EvqtfK_RaRg",
         "kind": "youtube#video",
         "snippet": {
          "categoryId": "24",
          "channelId": "UCX6OQ3DkcsbYNE6H8uQQuVA",
          "channelTitle": "MrBeast",
          "defaultAudioLanguage": "en",
          "defaultLanguage": "en",
          "description": "",
          "liveBroadcastContent": "none",
          "localized": {
           "description": "",
           "title": "This obstacle course is WILD"
          },
          "publishedAt": "2025-01-10T17:00:00Z",
          "thumbnails": {
           "default": {
            "height": 90,
            "url": "https://i.ytimg.com/vi/EvqtfK_RaRg/default.jpg",
            "width": 120
           },
           "high": {
            "height": 360,
            "url": "https://i.ytimg.com/vi/EvqtfK_RaRg/hqdefault.jpg",
            "width": 480
           },
           "maxres": {
            "height": 720,
            "url": "https://i.ytimg.com/vi/EvqtfK_RaRg/maxresdefault.jpg",
            "width": 1280
           },
           "medium": {
            "height": 180,
            "url": "https://i.ytimg.com/vi/EvqtfK_RaRg/mqdefault.jpg",
            "width": 320
           },
           "standard": {
            "height": 480,
            "url": "https://i.ytimg.com/vi/EvqtfK_RaRg/sddefault.jpg",
            "width": 640
           }
          },
          "title": "This obstacle course is WILD"
         },
         "statistics": {
          "commentCount": "4797",
          "favoriteCount": "0",
          "likeCount": "3228285",
          "viewCount": "124029873"
         }
        },
        {
         "contentDetails": {
          "caption": "false",
          "contentRating": {},
          "definition": "hd",
          "dimension": "2d",
          "duration": "PT21S",
          "licensedContent": true,
          "projection": "rectangular"
         },
         "etag": "HuPf6U281vYyJA9Qa48Z-a34wFI",
         "id": "3cWm9B_0_kI",
         "kind": "youtube#video",
         "snippet": {
          "categoryId": "24",
          "channelId": "UCX6OQ3DkcsbYNE6H8uQQuVA",
          "channelTitle": "MrBeast",
          "defaultAudioLanguage": "en",
          "defaultLanguage": "en",
          "description": "",
          "liveBroadcastContent": "none",
          "localized": {
           "description": "",
           "title": "How Many People To Stop Ronaldo?"
          },
          "publishedAt": "2024-12-27T19:00:00Z",
          "thumbnails": {
           "default": {
            "height": 90,
            "url": "https://i.ytimg.com/vi/3cWm9B_0_kI/default.jpg",
            "width": 120
           },
           "high": {
            "height": 360,
            "url": "https://i.ytimg.com/vi/3cWm9B_0_kI/hqdefault.jpg",
            "width": 480
           },
           "maxres": {
            "height": 720,
            "url": "https://i.ytimg.com/vi/3cWm9B_0_kI/maxresdefault.jpg",
            "width": 1280
           },
           "medium": {
            "height": 180,
            "url": "https://i.ytimg.com/vi/3cWm9B_0_kI/mqdefault.jpg",
            "width": 320
           },
           "standard": {
            "height": 480,
            "url": "https://i.ytimg.com/vi/3cWm9B_0_kI/sddefault.jpg",
            "width": 640
           }
          },
          "title": "How Many People To Stop Ronaldo?"
         },
         "statistics": {
          "commentCount": "21499",
          "favoriteCount": "0",
          "likeCount": "9463850",
          "viewCount": "290634917"
         }
        },
        {
         "contentDetails": {
          "caption": "false",
          "contentRating": {},
          "definition": "hd",
          "dimension": "2d",
          "duration": "PT48S",
          "licensedContent": true,
          "projection": "rectangular"
         },
         "etag": "TRO9AlpB1k1QMx-AIO3szkW0o4A",
         "id": "qtWqHIx8Z-o",
         "kind": "youtube#video",
         "snippet": {
          "categoryId": "24",
          "channelId": "UCX6OQ3DkcsbYNE6H8uQQuVA",
          "channelTitle": "MrBeast",
          "defaultAudioLanguage": "en",
          "defaultLanguage": "en",
          "description": "",
          "liveBroadcastContent": "none",
          "localized": {
           "description": "",
           "title": "Last Person Standing Wins $10,000"
          },
          "publishedAt": "2024-12-22T17:00:01Z",
          "thumbnails": {
           "default": {
            "height": 90,
            "url": "https://i.ytimg.com/vi/qtWqHIx8Z-o/default.jpg",
            "width": 120
           },
           "high": {
            "height": 360,
            "url": "https://i.ytimg.com/vi/qtWqHIx8Z-o/hqdefault.jpg",
            "width": 480
           },
           "maxres": {
            "height": 720,
            "url": "https://i.ytimg.com/vi/qtWqHIx8Z-o/maxresdefault.jpg",
            "width": 1280
           },
           "medium": {
            "height": 180,
            "url": "https://i.ytimg.com/vi/qtWqHIx8Z-o/mqdefault.jpg",
            "width": 320
           },
           "standard": {
            "height": 480,
            "url": "https://i.ytimg.com/vi/qtWqHIx8Z-o/sddefault.jpg",
            "width": 640
           }
          },
          "title": "Last Person Standing Wins $10,000"
         },
         "statistics": {
          "commentCount": "7523",
          "favoriteCount": "0",
          "likeCount": "10637766",
          "viewCount": "373020364"
         }
        },
        {
         "contentDetails": {
          "caption": "true",
          "contentRating": {},
          "definition": "hd",
          "dimension": "2d",
          "duration": "PT24M45S",
          "licensedContent": true,
          "projection": "rectangular"
         },
         "etag": "iUaKh3IUCXEai-6WTaartxMvKZM",
         "id": "gs8qfL9PNac",
         "kind": "youtube#video",
         "snippet": {
          "categoryId": "24",
          "channelId": "UCX6OQ3DkcsbYNE6H8uQQuVA",
          "channelTitle": "MrBeast",
          "defaultAudioLanguage": "en",
          "defaultLanguage": "en",
          "description": "Watch Beast Games now on Prime Video: https://unfur.ly/BeastGames\nThank you to @MoneyLion for partnering with me on Beast Games. You can enter the MoneyLion Beast Games Giveaway where over $4,000,000 will be up for grabs throughout the series at https://www.moneylion.com/beastgames! Download the MoneyLion app to earn extra entries daily and increase your chance of winning by tapping the Beast Bonus. \n\n50 of the people that were eliminated in this video were randomly selected to come back for episode 1 of Beast Games due to scheduling conflicts and other contestants unable to attend.\n\nAll footage was reviewed for all eliminations, decisions and any actions taken by contestants.\n\nThank you to the Las Vegas Raiders & Allegiant Stadium for hosting us at their incredible stadium. \n\nNew Merch - https://mrbeast.store\n\nCheck out Viewstats! - https://www.viewstats.com/\n\nSUBSCRIBE OR I TAKE YOUR DOG\n╔═╦╗╔╦╗╔═╦═╦╦╦╦╗╔═╗\n║╚╣║║║╚╣╚╣╔╣╔╣║╚╣═╣ \n╠╗║╚╝║║╠╗║╚╣║║║║║═╣\n╚═╩══╩═╩═╩═╩╝╚╩═╩═╝\n\nFor any questions or inquiries regarding this video, please reach out to chucky@mrbeastbusiness.com\n\nMusic Provided by https://www.extrememusic.com\n\n----------------------------------------------------------------\nfollow all of these or i will kick you\n• Facebook - https://www.facebook.com/MrBeast6000/\n• Twitter - https://twitter.com/MrBeast\n•  Instagram - https://www.instagram.com/mrbeast\n•  Im Hiring! - https://www.mrbeastjobs.com/\n--------------------------------------------------------------------\n\nMoneyLion Beast Games Giveaway. No Purch Nec. 50 US + DC. 18+. Ends 11/27/25. T&Cs can be found at http://mlion.info/BGGRules.",
          "liveBroadcastContent": "none",
          "localized": {
           "description": "Watch Beast Games now on Prime Video: https://unfur.ly/BeastGames\nThank you to @MoneyLion for partnering with me on Beast Games. You can enter the MoneyLion Beast Games Giveaway where over $4,000,000 will be up for grabs throughout the series at https://www.moneylion.com/beastgames! Download the MoneyLion app to earn extra entries daily and increase your chance of winning by tapping the Beast Bonus. \n\n50 of the people that were eliminated in this video were randomly selected to come back for episode 1 of Beast Games due to scheduling conflicts and other contestants unable to attend.\n\nAll footage was reviewed for all eliminations, decisions and any actions taken by contestants.\n\nThank you to the Las Vegas Raiders & Allegiant Stadium for hosting us at their incredible stadium. \n\nNew Merch - https://mrbeast.store\n\nCheck out Viewstats! - https://www.viewstats.com/\n\nSUBSCRIBE OR I TAKE YOUR DOG\n╔═╦╗╔╦╗╔═╦═╦╦╦╦╗╔═╗\n║╚╣║║║╚╣╚╣╔╣╔╣║╚╣═╣ \n╠╗║╚╝║║╠╗║╚╣║║║║║═╣\n╚═╩══╩═╩═╩═╩╝╚╩═╩═╝\n\nFor any questions or inquiries regarding this video, please reach out to chucky@mrbeastbusiness.com\n\nMusic Provided by https://www.extrememusic.com\n\n----------------------------------------------------------------\nfollow all of these or i will kick you\n• Facebook - https://www.facebook.com/MrBeast6000/\n• Twitter - https://twitter.com/MrBeast\n•  Instagram - https://www.instagram.com/mrbeast\n•  Im Hiring! - https://www.mrbeastjobs.com/\n--------------------------------------------------------------------\n\nMoneyLion Beast Games Giveaway. No Purch Nec. 50 US + DC. 18+. Ends 11/27/25. T&Cs can be found at http://mlion.info/BGGRules.",
           "title": "2,000 People Fight For $5,000,000"
          },
          "publishedAt": "2024-12-19T17:00:00Z",
          "thumbnails": {
           "default": {
            "height": 90,
            "url": "https://i.ytimg.com/vi/gs8qfL9PNac/default.jpg",
            "width": 120
           },
           "high": {
            "height": 360,
            "url": "https://i.ytimg.com/vi/gs8qfL9PNac/hqdefault.jpg",
            "width": 480
           },
           "maxres": {
            "height": 720,
            "url": "https://i.ytimg.com/vi/gs8qfL9PNac/maxresdefault.jpg",
            "width": 1280
           },
           "medium": {
            "height": 180,
            "url": "https://i.ytimg.com/vi/gs8qfL9PNac/mqdefault.jpg",
            "width": 320
           },
           "standard": {
            "height": 480,
            "url": "https://i.ytimg.com/vi/gs8qfL9PNac/sddefault.jpg",
            "width": 640
           }
          },
          "title": "2,000 People Fight For $5,000,000"
         },
         "statistics": {
          "commentCount": "49917",
          "favoriteCount": "0",
          "likeCount": "4439197",
          "viewCount": "167194463"
         }
        },
        {
         "contentDetails": {
          "caption": "false",
          "contentRating": {},
          "definition": "hd",
          "dimension": "2d",
          "duration": "PT55S",
          "licensedContent": true,
          "projection": "rectangular"
         },
         "etag": "EGPH-rgqgDbGpyuPbqsJt_1Sgfk",
         "id": "DBPYB8WkkDc",
         "kind": "youtube#video",
         "snippet": {
          "categoryId": "24",
          "channelId": "UCX6OQ3DkcsbYNE6H8uQQuVA",
          "channelTitle": "MrBeast",
          "defaultAudioLanguage": "en",
          "defaultLanguage": "en",
          "description": "#ad \nhttps://www.amazon.com/redone",
          "liveBroadcastContent": "none",
          "localized": {
           "description": "#ad \nhttps://www.amazon.com/redone",
           "title": "Bring Me Back Snow From The North Pole"
          },
          "publishedAt": "2024-12-10T17:00:00Z",
          "thumbnails": {
           "default": {
            "height": 90,
            "url": "https://i.ytimg.com/vi/DBPYB8WkkDc/default.jpg",
            "width": 120
           },
           "high": {
            "height": 360,
            "url": "https://i.ytimg.com/vi/DBPYB8WkkDc/hqdefault.jpg",
            "width": 480
           },
           "maxres": {
            "height": 720,
            "url": "https://i.ytimg.com/vi/DBPYB8WkkDc/maxresdefault.jpg",
            "width": 1280
           },
           "medium": {
            "height": 180,
            "url": "https://i.ytimg.com/vi/DBPYB8WkkDc/mqdefault.jpg",
            "width": 320
           },
           "standard": {
            "height": 480,
            "url": "https://i.ytimg.com/vi/DBPYB8WkkDc/sddefault.jpg",
            "width": 640
           }
          },
          "title": "Bring Me Back Snow From The North Pole"
         },
         "statistics": {
          "commentCount": "10309",
          "favoriteCount": "0",
          "likeCount": "14147344",
          "viewCount": "341435257"
         }
        },
        {
         "contentDetails": {
          "caption": "false",
          "contentRating": {},
          "definition": "hd",
          "dimension": "2d",
          "duration": "PT31S",
          "licensedContent": true,
          "projection": "rectangular"
         },
         "etag": "d7I50wWBzMk_vFxKOe5nT6__dEI",
         "id": "zvBXpoBegwE",
         "kind": "youtube#video",
         "snippet": {
          "categoryId": "24",
          "channelId": "UCX6OQ3DkcsbYNE6H8uQQuVA",
          "channelTitle": "MrBeast",
          "defaultAudioLanguage": "en",
          "defaultLanguage": "en",
          "description": "",
          "liveBroadcastContent": "none",
          "localized": {
           "description": "",
           "title": "I Got T-Series To Subscribe To Me"
          },
          "publishedAt": "2024-12-09T17:00:01Z",
          "thumbnails": {
           "default": {
            "height": 90,
            "url": "https://i.ytimg.com/vi/zvBXpoBegwE/default.jpg",
            "width": 120
           },
           "high": {
            "height": 360,
            "url": "https://i.ytimg.com/vi/zvBXpoBegwE/hqdefault.jpg",
            "width": 480
           },
           "maxres": {
            "height": 720,
            "url": "https://i.ytimg.com/vi/zvBXpoBegwE/maxresdefault.jpg",
            "width": 1280
           },
           "medium": {
            "height": 180,
            "url": "https://i.ytimg.com/vi/zvBXpoBegwE/mqdefault.jpg",
            "width": 320
           },
           "standard": {
            "height": 480,
            "url": "https://i.ytimg.com/vi/zvBXpoBegwE/sddefault.jpg",
            "width": 640
           }
          },
          "title": "I Got T-Series To Subscribe To Me"
         },
         "statistics": {
          "commentCount": "11728",
          "favoriteCount": "0",
          "likeCount": "6704407",
          "viewCount": "114702226"
         }
        },
        {
         "contentDetails": {
          "caption": "false",
          "contentRating": {},
          "definition": "hd",
          "dimension": "2d",
          "duration": "PT15S",
          "licensedContent": true,
          "projection": "rectangular"
         },
         "etag": "ZCKCGfhEQuYX1739rmojWPnuVXY",
         "id": "SWc8fI_9iqA",
         "kind": "youtube#video",
         "snippet": {
          "categoryId": "24",
          "channelId": "UCX6OQ3DkcsbYNE6H8uQQuVA",
          "channelTitle": "MrBeast",
          "defaultAudioLanguage": "en",
          "defaultLanguage": "en",
          "description": "",
          "liveBroadcastContent": "none",
          "localized": {
           "description": "",
           "title": "Ronaldo Teaches Me How To SIUU"
          },
          "publishedAt": "2024-12-01T17:00:00Z",
          "thumbnails": {
           "default": {
            "height": 90,
            "url": "https://i.ytimg.com/vi/SWc8fI_9iqA/default.jpg",
            "width": 120
           },
           "high": {
            "height": 360,
            "url": "https://i.ytimg.com/vi/SWc8fI_9iqA/hqdefault.jpg",
            "width": 480
           },
           "maxres": {
            "height": 720,
            "url": "https://i.ytimg.com/vi/SWc8fI_9iqA/maxresdefault.jpg",
            "width": 1280
           },
           "medium": {
            "height": 180,
            "url": "https://i.ytimg.com/vi/SWc8fI_9iqA/mqdefault.jpg",
            "width": 320
           },
           "standard": {
            "height": 480,
            "url": "https://i.ytimg.com/vi/SWc8fI_9iqA/sddefault.jpg",
            "width": 640
           }
          },
          "title": "Ronaldo Teaches Me How To SIUU"
         },
         "statistics": {
          "commentCount": "28927",
          "favoriteCount": "0",
          "likeCount": "7940977",
          "viewCount": "209938981"
         }
        },
        {
         "contentDetails": {
          "caption": "true",
          "contentRating": {},
          "definition": "hd",
          "dimension": "2d",
          "duration": "PT22M45S",
          "licensedContent": true,
          "projection": "rectangular"
         },
         "etag": "Z7TPBNPJXYdeFfEDKoLAI0oWPfk",
         "id": "0BjlBnfHcHM",
         "kind": "youtube#video",
         "snippet": {
          "categoryId": "24",
          "channelId": "UCX6OQ3DkcsbYNE6H8uQQuVA",
          "channelTitle": "MrBeast",
          "defaultAudioLanguage": "en",
          "defaultLanguage": "en",
          "description": "I still can’t believe we got all of these athletes for this\nThanks Yahoo Sports for sponsoring. Enter for a chance to meet me at one of my video sets by downloading the Yahoo Sports app and signing up for a reminder to play Daily Draw. Play starting 12/20 for a chance to win $10k/day for 10 days straight! https://yahoosports.com/mrbeast\n\nCheck out Cristiano’s awesome collab: https://youtu.be/_ZsZ4-HyjCg\n\nRonaldo\n@cristiano \n\nTom Brady\n@tombrady \n\nNoah Lyles\n@noahlyles18 \n\nBryce Harper\nhttps://www.tiktok.com/@3ryceharper\n\nBryson DeChambeau\n@brysondechambeau \n\nSpeed\n@IShowSpeed \n\nNew Merch - https://mrbeast.store\n\nCheck out Viewstats! - https://www.viewstats.com/\n\nSUBSCRIBE OR I TAKE YOUR DOG\n╔═╦╗╔╦╗╔═╦═╦╦╦╦╗╔═╗\n║╚╣║║║╚╣╚╣╔╣╔╣║╚╣═╣ \n╠╗║╚╝║║╠╗║╚╣║║║║║═╣\n╚═╩══╩═╩═╩═╩╝╚╩═╩═╝\n\nFor any questions or inquiries regarding this video, please reach out to chucky@mrbeastbusiness.com\n\nMusic Provided by https://www.extrememusic.com\n\n----------------------------------------------------------------\nfollow all of these or i will kick you\n• Facebook - https://www.facebook.com/MrBeast6000/\n• Twitter - https://twitter.com/MrBeast\n•  Instagram - https://www.instagram.com/mrbeast\n•  Im Hiring! - https://www.mrbeastjobs.com/\n--------------------------------------------------------------------\n\nNo purchase necessary. 50 US or DC, 18+. Ends: 12/19/24 for Meet MrBeast. Entry: 12/20/24 to 12/29/24 for MrBeast $10k a day. See Official Rules at https://yahoosports.com/mrbeastsweeps",
          "liveBroadcastContent": "none",
          "localized": {
           "description": "I still can’t believe we got all of these athletes for this\nThanks Yahoo Sports for sponsoring. Enter for a chance to meet me at one of my video sets by downloading the Yahoo Sports app and signing up for a reminder to play Daily Draw. Play starting 12/20 for a chance to win $10k/day for 10 days straight! https://yahoosports.com/mrbeast\n\nCheck out Cristiano’s awesome collab: https://youtu.be/_ZsZ4-HyjCg\n\nRonaldo\n@cristiano \n\nTom Brady\n@tombrady \n\nNoah Lyles\n@noahlyles18 \n\nBryce Harper\nhttps://www.tiktok.com/@3ryceharper\n\nBryson DeChambeau\n@brysondechambeau \n\nSpeed\n@IShowSpeed \n\nNew Merch - https://mrbeast.store\n\nCheck out Viewstats! - https://www.viewstats.com/\n\nSUBSCRIBE OR I TAKE YOUR DOG\n╔═╦╗╔╦╗╔═╦═╦╦╦╦╗╔═╗\n║╚╣║║║╚╣╚╣╔╣╔╣║╚╣═╣ \n╠╗║╚╝║║╠╗║╚╣║║║║║═╣\n╚═╩══╩═╩═╩═╩╝╚╩═╩═╝\n\nFor any questions or inquiries regarding this video, please reach out to chucky@mrbeastbusiness.com\n\nMusic Provided by https://www.extrememusic.com\n\n----------------------------------------------------------------\nfollow all of these or i will kick you\n• Facebook - https://www.facebook.com/MrBeast6000/\n• Twitter - https://twitter.com/MrBeast\n•  Instagram - https://www.instagram.com/mrbeast\n•  Im Hiring! - https://www.mrbeastjobs.com/\n--------------------------------------------------------------------\n\nNo purchase necessary. 50 US or DC, 18+. Ends: 12/19/24 for Meet MrBeast. Entry: 12/20/24 to 12/29/24 for MrBeast $10k a day. See Official Rules at https://yahoosports.com/mrbeastsweeps",
           "title": "Beat Ronaldo, Win $1,000,000"
          },
          "publishedAt": "2024-11-30T17:00:00Z",
          "thumbnails": {
           "default": {
            "height": 90,
            "url": "https://i.ytimg.com/vi/0BjlBnfHcHM/default.jpg",
            "width": 120
           },
           "high": {
            "height": 360,
            "url": "https://i.ytimg.com/vi/0BjlBnfHcHM/hqdefault.jpg",
            "width": 480
           },
           "maxres": {
            "height": 720,
            "url": "https://i.ytimg.com/vi/0BjlBnfHcHM/maxresdefault.jpg",
            "width": 1280
           },
           "medium": {
            "height": 180,
            "url": "https://i.ytimg.com/vi/0BjlBnfHcHM/mqdefault.jpg",
            "width": 320
           },
           "standard": {
            "height": 480,
            "url": "https://i.ytimg.com/vi/0BjlBnfHcHM/sddefault.jpg",
            "width": 640
           }
          },
          "title": "Beat Ronaldo, Win $1,000,000"
         },
         "statistics": {
          "commentCount": "113054",
          "favoriteCount": "0",
          "likeCount": "7511055",
          "viewCount": "257052706"
         }
        },
        {
         "contentDetails": {
          "caption": "false",
          "contentRating": {},
          "definition": "hd",
          "dimension": "2d",
          "duration": "PT21S",
          "licensedContent": true,
          "projection": "rectangular"
         },
         "etag": "DPERVSjAeY_L-awPCS5ZdMprji4",
         "id": "HcL1EQ5qD_g",
         "kind": "youtube#video",
         "snippet": {
          "categoryId": "24",
          "channelId": "UCX6OQ3DkcsbYNE6H8uQQuVA",
          "channelTitle": "MrBeast",
          "defaultAudioLanguage": "en",
          "defaultLanguage": "en",
          "description": "",
          "liveBroadcastContent": "none",
          "localized": {
           "description": "",
           "title": "Confronting Ronaldo"
          },
          "publishedAt": "2024-11-29T17:30:10Z",
          "thumbnails": {
           "default": {
            "height": 90,
            "url": "https://i.ytimg.com/vi/HcL1EQ5qD_g/default.jpg",
            "width": 120
           },
           "high": {
            "height": 360,
            "url": "https://i.ytimg.com/vi/HcL1EQ5qD_g/hqdefault.jpg",
            "width": 480
           },
           "maxres": {
            "height": 720,
            "url": "https://i.ytimg.com/vi/HcL1EQ5qD_g/maxresdefault.jpg",
            "width": 1280
           },
           "medium": {
            "height": 180,
            "url": "https://i.ytimg.com/vi/HcL1EQ5qD_g/mqdefault.jpg",
            "width": 320
           },
           "standard": {
            "height": 480,
            "url": "https://i.ytimg.com/vi/HcL1EQ5qD_g/sddefault.jpg",
            "width": 640
           }
          },
          "title": "Confronting Ronaldo"
         },
         "statistics": {
          "commentCount": "19614",
          "favoriteCount": "0",
          "likeCount": "10699534",
          "viewCount": "158169357"
         }
        },
        {
         "contentDetails": {
          "caption": "false",
          "contentRating": {},
          "definition": "hd",
          "dimension": "2d",
          "duration": "PT22S",
          "licensedContent": true,
          "projection": "rectangular"
         },
         "etag": "Hu7viEsQYrVCL04qyWgUgm2sqGE",
         "id": "dc089EZRGcg",
         "kind": "youtube#video",
         "snippet": {
          "categoryId": "24",
          "channelId": "UCX6OQ3DkcsbYNE6H8uQQuVA",
          "channelTitle": "MrBeast",
          "defaultAudioLanguage": "en",
          "defaultLanguage": "en",
          "description": "#ad",
          "liveBroadcastContent": "none",
          "localized": {
           "description": "#ad",
           "title": "How Many Balloons To Make A Store Fly?"
          },
          "publishedAt": "2024-11-18T19:00:00Z",
          "thumbnails": {
           "default": {
            "height": 90,
            "url": "https://i.ytimg.com/vi/dc089EZRGcg/default.jpg",
            "width": 120
           },
           "high": {
            "height": 360,
            "url": "https://i.ytimg.com/vi/dc089EZRGcg/hqdefault.jpg",
            "width": 480
           },
           "maxres": {
            "height": 720,
            "url": "https://i.ytimg.com/vi/dc089EZRGcg/maxresdefault.jpg",
            "width": 1280
           },
           "medium": {
            "height": 180,
            "url": "https://i.ytimg.com/vi/dc089EZRGcg/mqdefault.jpg",
            "width": 320
           },
           "standard": {
            "height": 480,
            "url": "https://i.ytimg.com/vi/dc089EZRGcg/sddefault.jpg",
            "width": 640
           }
          },
          "title": "How Many Balloons To Make A Store Fly?"
         },
         "statistics": {
          "commentCount": "9689",
          "favoriteCount": "0",
          "likeCount": "9629532",
          "viewCount": "347112323"
         }
        },
        {
         "contentDetails": {
          "caption": "false",
          "contentRating": {},
          "definition": "hd",
          "dimension": "2d",
          "duration": "PT36S",
          "licensedContent": true,
          "projection": "rectangular"
         },
         "etag": "pTY30vvf_Y67svgDob3iZYCRN8k",
         "id": "vXNtju4VFm4",
         "kind": "youtube#video",
         "snippet": {
          "categoryId": "22",
          "channelId": "UCX6OQ3DkcsbYNE6H8uQQuVA",
          "channelTitle": "MrBeast",
          "defaultAudioLanguage": "en",
          "description": "",
          "liveBroadcastContent": "none",
          "localized": {
           "description": "",
           "title": "Restocking MrBeast Labs at Walmart"
          },
          "publishedAt": "2024-11-18T17:00:00Z",
          "thumbnails": {
           "default": {
            "height": 90,
            "url": "https://i.ytimg.com/vi/vXNtju4VFm4/default.jpg",
            "width": 120
           },
           "high": {
            "height": 360,
            "url": "https://i.ytimg.com/vi/vXNtju4VFm4/hqdefault.jpg",
            "width": 480
           },
           "maxres": {
            "height": 720,
            "url": "https://i.ytimg.com/vi/vXNtju4VFm4/maxresdefault.jpg",
            "width": 1280
           },
           "medium": {
            "height": 180,
            "url": "https://i.ytimg.com/vi/vXNtju4VFm4/mqdefault.jpg",
            "width": 320
           },
           "standard": {
            "height": 480,
            "url": "https://i.ytimg.com/vi/vXNtju4VFm4/sddefault.jpg",
            "width": 640
           }
          },
          "title": "Restocking MrBeast Labs at Walmart"
         },
         "statistics": {
          "commentCount": "3329",
          "favoriteCount": "0",
          "likeCount": "4382940",
          "viewCount": "187383278"
         }
        },
        {
         "contentDetails": {
          "caption": "false",
          "contentRating": {},
          "definition": "hd",
          "dimension": "2d",
          "duration": "PT19S",
          "licensedContent": true,
          "projection": "rectangular"
         },
         "etag": "8aeJKWiixXFLaYO-tsc_uiXcZmE",
         "id": "I9mw5UlDyPI",
         "kind": "youtube#video",
         "snippet": {
          "categoryId": "24",
          "channelId": "UCX6OQ3DkcsbYNE6H8uQQuVA",
          "channelTitle": "MrBeast",
          "defaultAudioLanguage": "en",
          "defaultLanguage": "en",
          "description": "",
          "liveBroadcastContent": "none",
          "localized": {
           "description": "",
           "title": "This Game Is Wild..."
          },
          "publishedAt": "2024-11-12T17:00:00Z",
          "thumbnails": {
           "default": {
            "height": 90,
            "url": "https://i.ytimg.com/vi/I9mw5UlDyPI/default.jpg",
            "width": 120
           },
           "high": {
            "height": 360,
            "url": "https://i.ytimg.com/vi/I9mw5UlDyPI/hqdefault.jpg",
            "width": 480
           },
           "maxres": {
            "height": 720,
            "url": "https://i.ytimg.com/vi/I9mw5UlDyPI/maxresdefault.jpg",
            "width": 1280
           },
           "medium": {
            "height": 180,
            "url": "https://i.ytimg.com/vi/I9mw5UlDyPI/mqdefault.jpg",
            "width": 320
           },
           "standard": {
            "height": 480,
            "url": "https://i.ytimg.com/vi/I9mw5UlDyPI/sddefault.jpg",
            "width": 640
           }
          },
          "title": "This Game Is Wild..."
         },
         "statistics": {
          "commentCount": "7598",
          "favoriteCount": "0",
          "likeCount": "12287796",
          "viewCount": "503839247"
         }
        },
        {
         "contentDetails": {
          "caption": "false",
          "contentRating": {},
          "definition": "hd",
          "dimension": "2d",
          "duration": "PT15S",
          "licensedContent": true,
          "projection": "rectangular"
         },
         "etag": "O8SKqhrVdC3puTYGP-ZpFZxUx9g",
         "id": "pS-fFdvyHLE",
         "kind": "youtube#video",
         "snippet": {
          "categoryId": "24",
          "channelId": "UCX6OQ3DkcsbYNE6H8uQQuVA",
          "channelTitle": "MrBeast",
          "defaultAudioLanguage": "en",
          "defaultLanguage": "en",
          "description": "",
          "liveBroadcastContent": "none",
          "localized": {
           "description": "",
           "title": "How Much Tape To Stop A Lamborghini?"
          },
          "publishedAt": "2024-11-08T17:00:00Z",
          "thumbnails": {
           "default": {
            "height": 90,
            "url": "https://i.ytimg.com/vi/pS-fFdvyHLE/default.jpg",
            "width": 120
           },
           "high": {
            "height": 360,
            "url": "https://i.ytimg.com/vi/pS-fFdvyHLE/hqdefault.jpg",
            "width": 480
           },
           "maxres": {
            "height": 720,
            "url": "https://i.ytimg.com/vi/pS-fFdvyHLE/maxresdefault.jpg",
            "width": 1280
           },
           "medium": {
            "height": 180,
            "url": "https://i.ytimg.com/vi/pS-fFdvyHLE/mqdefault.jpg",
            "width": 320
           },
           "standard": {
            "height": 480,
            "url": "https://i.ytimg.com/vi/pS-fFdvyHLE/sddefault.jpg",
            "width": 640
           }
          },
          "title": "How Much Tape To Stop A Lamborghini?"
         },
         "statistics": {
          "commentCount": "17822",
          "favoriteCount": "0",
          "likeCount": "13206137",
          "viewCount": "604289141"
         }
        },
        {
         "contentDetails": {
          "caption": "true",
          "contentRating": {},
          "definition": "hd",
          "dimension": "2d",
          "duration": "PT17M40S",
          "licensedContent": true,
          "projection": "rectangular"
         },
         "etag": "4_WeJMO9liWb1AgOubFtUsGIBcE",
         "id": "Xj0Jtjg3lHQ",
         "kind": "youtube#video",
         "snippet": {
          "categoryId": "24",
          "channelId": "UCX6OQ3DkcsbYNE6H8uQQuVA",
          "channelTitle": "MrBeast",
          "defaultAudioLanguage": "en",
          "defaultLanguage": "en",
          "description": "I didn’t know some of these were possible\nMrBeast Lab Swarms are flying off the shelves! Grab yours now at Walmart, Target, Amazon, or top toy retailers worldwide. This video Includes promoted content in partnership with Moose Toys.\n\nNew Merch - https://mrbeast.store\n\nCheck out Viewstats! - https://www.viewstats.com/\n\nSUBSCRIBE OR I TAKE YOUR DOG\n╔═╦╗╔╦╗╔═╦═╦╦╦╦╗╔═╗\n║╚╣║║║╚╣╚╣╔╣╔╣║╚╣═╣ \n╠╗║╚╝║║╠╗║╚╣║║║║║═╣\n╚═╩══╩═╩═╩═╩╝╚╩═╩═╝\n\nFor any questions or inquiries regarding this video, please reach out to chucky@mrbeastbusiness.com\n\nMusic Provided by https://www.extrememusic.com\n\n----------------------------------------------------------------\nfollow all of these or i will kick you\n• Facebook - https://www.facebook.com/MrBeast6000/\n• Twitter - https://twitter.com/MrBeast\n•  Instagram - https://www.instagram.com/mrbeast\n•  Im Hiring! - https://www.mrbeastjobs.com/\n--------------------------------------------------------------------",
          "liveBroadcastContent": "none",
          "localized": {
           "description": "I didn’t know some of these were possible\nMrBeast Lab Swarms are flying off the shelves! Grab yours now at Walmart, Target, Amazon, or top toy retailers worldwide. This video Includes promoted content in partnership with Moose Toys.\n\nNew Merch - https://mrbeast.store\n\nCheck out Viewstats! - https://www.viewstats.com/\n\nSUBSCRIBE OR I TAKE YOUR DOG\n╔═╦╗╔╦╗╔═╦═╦╦╦╦╗╔═╗\n║╚╣║║║╚╣╚╣╔╣╔╣║╚╣═╣ \n╠╗║╚╝║║╠╗║╚╣║║║║║═╣\n╚═╩══╩═╩═╩═╩╝╚╩═╩═╝\n\nFor any questions or inquiries regarding this video, please reach out to chucky@mrbeastbusiness.com\n\nMusic Provided by https://www.extrememusic.com\n\n----------------------------------------------------------------\nfollow all of these or i will kick you\n• Facebook - https://www.facebook.com/MrBeast6000/\n• Twitter - https://twitter.com/MrBeast\n•  Instagram - https://www.instagram.com/mrbeast\n•  Im Hiring! - https://www.mrbeastjobs.com/\n--------------------------------------------------------------------",
           "title": "$1 vs $500,000 Experiences!"
          },
          "publishedAt": "2024-11-02T16:00:00Z",
          "thumbnails": {
           "default": {
            "height": 90,
            "url": "https://i.ytimg.com/vi/Xj0Jtjg3lHQ/default.jpg",
            "width": 120
           },
           "high": {
            "height": 360,
            "url": "https://i.ytimg.com/vi/Xj0Jtjg3lHQ/hqdefault.jpg",
            "width": 480
           },
           "maxres": {
            "height": 720,
            "url": "https://i.ytimg.com/vi/Xj0Jtjg3lHQ/maxresdefault.jpg",
            "width": 1280
           },
           "medium": {
            "height": 180,
            "url": "https://i.ytimg.com/vi/Xj0Jtjg3lHQ/mqdefault.jpg",
            "width": 320
           },
           "standard": {
            "height": 480,
            "url": "https://i.ytimg.com/vi/Xj0Jtjg3lHQ/sddefault.jpg",
            "width": 640
           }
          },
          "title": "$1 vs $500,000 Experiences!"
         },
         "statistics": {
          "commentCount": "55638",
          "favoriteCount": "0",
          "likeCount": "4883563",
          "viewCount": "231122485"
         }
        },
        {
         "contentDetails": {
          "caption": "false",
          "contentRating": {},
          "definition": "hd",
          "dimension": "2d",
          "duration": "PT17S",
          "licensedContent": true,
          "projection": "rectangular"
         },
         "etag": "ihlAASGNokMhcqpJs5P3xDwhYzw",
         "id": "9UtcHPCEBgg",
         "kind": "youtube#video",
         "snippet": {
          "categoryId": "24",
          "channelId": "UCX6OQ3DkcsbYNE6H8uQQuVA",
          "channelTitle": "MrBeast",
          "defaultAudioLanguage": "en",
          "defaultLanguage": "en",
          "description": "",
          "liveBroadcastContent": "none",
          "localized": {
           "description": "",
           "title": "1 Subscriber = 1 Penny"
          },
          "publishedAt": "2024-10-19T18:00:00Z",
          "thumbnails": {
           "default": {
            "height": 90,
            "url": "https://i.ytimg.com/vi/9UtcHPCEBgg/default.jpg",
            "width": 120
           },
           "high": {
            "height": 360,
            "url": "https://i.ytimg.com/vi/9UtcHPCEBgg/hqdefault.jpg",
            "width": 480
           },
           "maxres": {
            "height": 720,
            "url": "https://i.ytimg.com/vi/9UtcHPCEBgg/maxresdefault.jpg",
            "width": 1280
           },
           "medium": {
            "height": 180,
            "url": "https://i.ytimg.com/vi/9UtcHPCEBgg/mqdefault.jpg",
            "width": 320
           },
           "standard": {
            "height": 480,
            "url": "https://i.ytimg.com/vi/9UtcHPCEBgg/sddefault.jpg",
            "width": 640
           }
          },
          "title": "1 Subscriber = 1 Penny"
         },
         "statistics": {
          "commentCount": "20648",
          "favoriteCount": "0",
          "likeCount": "15159674",
          "viewCount": "277963079"
         }
        },
        {
         "contentDetails": {
          "caption": "false",
          "contentRating": {},
          "definition": "hd",
          "dimension": "2d",
          "duration": "PT19S",
          "licensedContent": true,
          "projection": "rectangular"
         },
         "etag": "TYjyRj2yEor53FMuBBRN0TcpO1I",
         "id": "ZNt_GoOBHq8",
         "kind": "youtube#video",
         "snippet": {
          "categoryId": "24",
          "channelId": "UCX6OQ3DkcsbYNE6H8uQQuVA",
          "channelTitle": "MrBeast",
          "defaultAudioLanguage": "en",
          "defaultLanguage": "en",
          "description": "",
          "liveBroadcastContent": "none",
          "localized": {
           "description": "",
           "title": "Human vs Jet Engine"
          },
          "publishedAt": "2024-10-17T19:00:00Z",
          "thumbnails": {
           "default": {
            "height": 90,
            "url": "https://i.ytimg.com/vi/ZNt_GoOBHq8/default.jpg",
            "width": 120
           },
           "high": {
            "height": 360,
            "url": "https://i.ytimg.com/vi/ZNt_GoOBHq8/hqdefault.jpg",
            "width": 480
           },
           "maxres": {
            "height": 720,
            "url": "https://i.ytimg.com/vi/ZNt_GoOBHq8/maxresdefault.jpg",
            "width": 1280
           },
           "medium": {
            "height": 180,
            "url": "https://i.ytimg.com/vi/ZNt_GoOBHq8/mqdefault.jpg",
            "width": 320
           },
           "standard": {
            "height": 480,
            "url": "https://i.ytimg.com/vi/ZNt_GoOBHq8/sddefault.jpg",
            "width": 640
           }
          },
          "title": "Human vs Jet Engine"
         },
         "statistics": {
          "commentCount": "15362",
          "favoriteCount": "0",
          "likeCount": "12450707",
          "viewCount": "424832426"
         }
        },
        {
         "contentDetails": {
          "caption": "true",
          "contentRating": {},
          "definition": "hd",
          "dimension": "2d",
          "duration": "PT20M35S",
          "licensedContent": true,
          "projection": "rectangular"
         },
         "etag": "PnhpTv4mZLUKSAu3PuxHMlXaEmY",
         "id": "bn0Kh9c4Zv4",
         "kind": "youtube#video",
         "snippet": {
          "categoryId": "24",
          "channelId": "UCX6OQ3DkcsbYNE6H8uQQuVA",
          "channelTitle": "MrBeast",
          "defaultAudioLanguage": "en",
          "defaultLanguage": "en",
          "description": "This salt mine is the coolest underground city I’ve ever seen\nGet Zaxbys MrBeast Box while you still can - Chicken Fingerz™, cheddar bites, fries, double Texas toast, signature sauces, a drink and my FEASTABLES BAR! Available only thru 10/28 at Zaxbys https://www.zaxbys.com/mrbeast \n\nNew Merch - https://mrbeast.store\n\nCheck out Viewstats! - https://www.viewstats.com/\n\nSUBSCRIBE OR I TAKE YOUR DOG\n╔═╦╗╔╦╗╔═╦═╦╦╦╦╗╔═╗\n║╚╣║║║╚╣╚╣╔╣╔╣║╚╣═╣ \n╠╗║╚╝║║╠╗║╚╣║║║║║═╣\n╚═╩══╩═╩═╩═╩╝╚╩═╩═╝\n\nFor any questions or inquiries regarding this video, please reach out to chucky@mrbeastbusiness.com\n\n\nMusic Provided by https://www.extrememusic.com\n\n----------------------------------------------------------------\nfollow all of these or i will kick you\n• Facebook - https://www.facebook.com/MrBeast6000/\n• Twitter - https://twitter.com/MrBeast\n•  Instagram - https://www.instagram.com/mrbeast\n•  Im Hiring! - https://www.mrbeastjobs.com/\n--------------------------------------------------------------------",
          "liveBroadcastContent": "none",
          "localized": {
           "description": "This salt mine is the coolest underground city I’ve ever seen\nGet Zaxbys MrBeast Box while you still can - Chicken Fingerz™, cheddar bites, fries, double Texas toast, signature sauces, a drink and my FEASTABLES BAR! Available only thru 10/28 at Zaxbys https://www.zaxbys.com/mrbeast \n\nNew Merch - https://mrbeast.store\n\nCheck out Viewstats! - https://www.viewstats.com/\n\nSUBSCRIBE OR I TAKE YOUR DOG\n╔═╦╗╔╦╗╔═╦═╦╦╦╦╗╔═╗\n║╚╣║║║╚╣╚╣╔╣╔╣║╚╣═╣ \n╠╗║╚╝║║╠╗║╚╣║║║║║═╣\n╚═╩══╩═╩═╩═╩╝╚╩═╩═╝\n\nFor any questions or inquiries regarding this video, please reach out to chucky@mrbeastbusiness.com\n\n\nMusic Provided by https://www.extrememusic.com\n\n----------------------------------------------------------------\nfollow all of these or i will kick you\n• Facebook - https://www.facebook.com/MrBeast6000/\n• Twitter - https://twitter.com/MrBeast\n•  Instagram - https://www.instagram.com/mrbeast\n•  Im Hiring! - https://www.mrbeastjobs.com/\n--------------------------------------------------------------------",
           "title": "7 Days Exploring An Underground City"
          },
          "publishedAt": "2024-10-12T16:00:00Z",
          "thumbnails": {
           "default": {
            "height": 90,
            "url": "https://i.ytimg.com/vi/bn0Kh9c4Zv4/default.jpg",
            "width": 120
           },
           "high": {
            "height": 360,
            "url": "https://i.ytimg.com/vi/bn0Kh9c4Zv4/hqdefault.jpg",
            "width": 480
           },
           "maxres": {
            "height": 720,
            "url": "https://i.ytimg.com/vi/bn0Kh9c4Zv4/maxresdefault.jpg",
            "width": 1280
           },
           "medium": {
            "height": 180,
            "url": "https://i.ytimg.com/vi/bn0Kh9c4Zv4/mqdefault.jpg",
            "width": 320
           },
           "standard": {
            "height": 480,
            "url": "https://i.ytimg.com/vi/bn0Kh9c4Zv4/sddefault.jpg",
            "width": 640
           }
          },
          "title": "7 Days Exploring An Underground City"
         },
         "statistics": {
          "commentCount": "31830",
          "favoriteCount": "0",
          "likeCount": "3481429",
          "viewCount": "141802496"
         }
        },
        {
         "contentDetails": {
          "caption": "false",
          "contentRating": {},
          "definition": "hd",
          "dimension": "2d",
          "duration": "PT30S",
          "licensedContent": true,
          "projection": "rectangular"
         },
         "etag": "ZlowQzq6q54tdgLpzlfHyiWi2J0",
         "id": "dDVFnfCwjHA",
         "kind": "youtube#video",
         "snippet": {
          "categoryId": "24",
          "channelId": "UCX6OQ3DkcsbYNE6H8uQQuVA",
          "channelTitle": "MrBeast",
          "defaultAudioLanguage": "en",
          "defaultLanguage": "en",
          "description": "",
          "liveBroadcastContent": "none",
          "localized": {
           "description": "",
           "title": "Will A Basketball Boat Hold My Weight?"
          },
          "publishedAt": "2024-10-11T16:00:01Z",
          "thumbnails": {
           "default": {
            "height": 90,
            "url": "https://i.ytimg.com/vi/dDVFnfCwjHA/default.jpg",
            "width": 120
           },
           "high": {
            "height": 360,
            "url": "https://i.ytimg.com/vi/dDVFnfCwjHA/hqdefault.jpg",
            "width": 480
           },
           "maxres": {
            "height": 720,
            "url": "https://i.ytimg.com/vi/dDVFnfCwjHA/maxresdefault.jpg",
            "width": 1280
           },
           "medium": {
            "height": 180,
            "url": "https://i.ytimg.com/vi/dDVFnfCwjHA/mqdefault.jpg",
            "width": 320
           },
           "standard": {
            "height": 480,
            "url": "https://i.ytimg.com/vi/dDVFnfCwjHA/sddefault.jpg",
            "width": 640
           }
          },
          "title": "Will A Basketball Boat Hold My Weight?"
         },
         "statistics": {
          "commentCount": "5895",
          "favoriteCount": "0",
          "likeCount": "9245416",
          "viewCount": "302714060"
         }
        },
        {
         "contentDetails": {
          "caption": "false",
          "contentRating": {},
          "definition": "hd",
          "dimension": "2d",
          "duration": "PT37S",
          "licensedContent": true,
          "projection": "rectangular"
         },
         "etag": "MFH4ctZiMJyqcatKapx3Vp7brgE",
         "id": "Kt2HvqRruHQ",
         "kind": "youtube#video",
         "snippet": {
          "categoryId": "24",
          "channelId": "UCX6OQ3DkcsbYNE6H8uQQuVA",
          "channelTitle": "MrBeast",
          "defaultAudioLanguage": "en",
          "defaultLanguage": "en",
          "description": "",
          "liveBroadcastContent": "none",
          "localized": {
           "description": "",
           "title": "Find The Real MrBeast, Win $10,000"
          },
          "publishedAt": "2024-10-05T16:00:00Z",
          "thumbnails": {
           "default": {
            "height": 90,
            "url": "https://i.ytimg.com/vi/Kt2HvqRruHQ/default.jpg",
            "width": 120
           },
           "high": {
            "height": 360,
            "url": "https://i.ytimg.com/vi/Kt2HvqRruHQ/hqdefault.jpg",
            "width": 480
           },
           "maxres": {
            "height": 720,
            "url": "https://i.ytimg.com/vi/Kt2HvqRruHQ/maxresdefault.jpg",
            "width": 1280
           },
           "medium": {
            "height": 180,
            "url": "https://i.ytimg.com/vi/Kt2HvqRruHQ/mqdefault.jpg",
            "width": 320
           },
           "standard": {
            "height": 480,
            "url": "https://i.ytimg.com/vi/Kt2HvqRruHQ/sddefault.jpg",
            "width": 640
           }
          },
          "title": "Find The Real MrBeast, Win $10,000"
         },
         "statistics": {
          "commentCount": "6204",
          "favoriteCount": "0",
          "likeCount": "9211386",
          "viewCount": "262671032"
         }
        },
        {
         "contentDetails": {
          "caption": "false",
          "contentRating": {},
          "definition": "hd",
          "dimension": "2d",
          "duration": "PT58S",
          "licensedContent": true,
          "projection": "rectangular"
         },
         "etag": "_gl5sYk-KqdX_JzILrIrNX-56Jo",
         "id": "vDrSCXFMAKk",
         "kind": "youtube#video",
         "snippet": {
          "categoryId": "24",
          "channelId": "UCX6OQ3DkcsbYNE6H8uQQuVA",
          "channelTitle": "MrBeast",
          "defaultAudioLanguage": "en",
          "defaultLanguage": "en",
          "description": "",
          "liveBroadcastContent": "none",
          "localized": {
           "description": "",
           "title": "Spot The Difference, Win $10,000"
          },
          "publishedAt": "2024-09-28T20:00:00Z",
          "thumbnails": {
           "default": {
            "height": 90,
            "url": "https://i.ytimg.com/vi/vDrSCXFMAKk/default.jpg",
            "width": 120
           },
           "high": {
            "height": 360,
            "url": "https://i.ytimg.com/vi/vDrSCXFMAKk/hqdefault.jpg",
            "width": 480
           },
           "maxres": {
            "height": 720,
            "url": "https://i.ytimg.com/vi/vDrSCXFMAKk/maxresdefault.jpg",
            "width": 1280
           },
           "medium": {
            "height": 180,
            "url": "https://i.ytimg.com/vi/vDrSCXFMAKk/mqdefault.jpg",
            "width": 320
           },
           "standard": {
            "height": 480,
            "url": "https://i.ytimg.com/vi/vDrSCXFMAKk/sddefault.jpg",
            "width": 640
           }
          },
          "title": "Spot The Difference, Win $10,000"
         },
         "statistics": {
          "commentCount": "4990",
          "favoriteCount": "0",
          "likeCount": "7503559",
          "viewCount": "205095493"
         }
        },
        {
         "contentDetails": {
          "caption": "true",
          "contentRating": {},
          "definition": "hd",
          "dimension": "2d",
          "duration": "PT35M40S",
          "licensedContent": true,
          "projection": "rectangular"
         },
         "etag": "PN6xW0WEaZqNYlZC3G_E-loBFqA",
         "id": "snX5YyflrGw",
         "kind": "youtube#video",
         "snippet": {
          "categoryId": "24",
          "channelId": "UCX6OQ3DkcsbYNE6H8uQQuVA",
          "channelTitle": "MrBeast",
          "defaultAudioLanguage": "en",
          "defaultLanguage": "en",
          "description": "I’ve never seen this many twins in one place before lol\nOur brand new flavor is here: Cookies & Creme, made with rich chocolatey filling, studded with crunchy cookie pieces and real creamy white chocolate. Now available at Walmart & Target! https://feastables.com/products/cookies-creme\n\nLunch just got better. #LeaveNoCrumbs https://lunchly.com/pages/lunchly-locator\n\nNew Merch - https://mrbeast.store\n\nCheck out Viewstats! - https://www.viewstats.com/\n\nSUBSCRIBE OR I TAKE YOUR DOG\n╔═╦╗╔╦╗╔═╦═╦╦╦╦╗╔═╗\n║╚╣║║║╚╣╚╣╔╣╔╣║╚╣═╣ \n╠╗║╚╝║║╠╗║╚╣║║║║║═╣\n╚═╩══╩═╩═╩═╩╝╚╩═╩═╝\n\nFor any questions or inquiries regarding this video, please reach out to chucky@mrbeastbusiness.com\n\nMusic Provided by https://www.extrememusic.com\n\n----------------------------------------------------------------\nfollow all of these or i will kick you\n\n• Facebook - https://www.facebook.com/MrBeast6000/\n• Twitter - https://twitter.com/MrBeast\n•  Instagram - https://www.instagram.com/mrbeast\n•  Im Hiring! - https://www.mrbeastjobs.com/",
          "liveBroadcastContent": "none",
          "localized": {
           "description": "I’ve never seen this many twins in one place before lol\nOur brand new flavor is here: Cookies & Creme, made with rich chocolatey filling, studded with crunchy cookie pieces and real creamy white chocolate. Now available at Walmart & Target! https://feastables.com/products/cookies-creme\n\nLunch just got better. #LeaveNoCrumbs https://lunchly.com/pages/lunchly-locator\n\nNew Merch - https://mrbeast.store\n\nCheck out Viewstats! - https://www.viewstats.com/\n\nSUBSCRIBE OR I TAKE YOUR DOG\n╔═╦╗╔╦╗╔═╦═╦╦╦╦╗╔═╗\n║╚╣║║║╚╣╚╣╔╣╔╣║╚╣═╣ \n╠╗║╚╝║║╠╗║╚╣║║║║║═╣\n╚═╩══╩═╩═╩═╩╝╚╩═╩═╝\n\nFor any questions or inquiries regarding this video, please reach out to chucky@mrbeastbusiness.com\n\nMusic Provided by https://www.extrememusic.com\n\n----------------------------------------------------------------\nfollow all of these or i will kick you\n\n• Facebook - https://www.facebook.com/MrBeast6000/\n• Twitter - https://twitter.com/MrBeast\n•  Instagram - https://www.instagram.com/mrbeast\n•  Im Hiring! - https://www.mrbeastjobs.com/",
           "title": "100 Identical Twins Fight For $250,000"
          },
          "publishedAt": "2024-09-28T16:00:00Z",
          "thumbnails": {
           "default": {
            "height": 90,
            "url": "https://i.ytimg.com/vi/snX5YyflrGw/default.jpg",
            "width": 120
           },
           "high": {
            "height": 360,
            "url": "https://i.ytimg.com/vi/snX5YyflrGw/hqdefault.jpg",
            "width": 480
           },
           "maxres": {
            "height": 720,
            "url": "https://i.ytimg.com/vi/snX5YyflrGw/maxresdefault.jpg",
            "width": 1280
           },
           "medium": {
            "height": 180,
            "url": "https://i.ytimg.com/vi/snX5YyflrGw/mqdefault.jpg",
            "width": 320
           },
           "standard": {
            "height": 480,
            "url": "https://i.ytimg.com/vi/snX5YyflrGw/sddefault.jpg",
            "width": 640
           }
          },
          "title": "100 Identical Twins Fight For $250,000"
         },
         "statistics": {
          "commentCount": "27347",
          "favoriteCount": "0",
          "likeCount": "3172384",
          "viewCount": "150774073"
         }
        },
        {
         "contentDetails": {
          "caption": "false",
          "contentRating": {},
          "definition": "hd",
          "dimension": "2d",
          "duration": "PT18S",
          "licensedContent": true,
          "projection": "rectangular"
         },
         "etag": "hkWSfFmxZUWd2lhlnPGR-Pu4_Ck",
         "id": "nbzQdlWrcnk",
         "kind": "youtube#video",
         "snippet": {
          "categoryId": "24",
          "channelId": "UCX6OQ3DkcsbYNE6H8uQQuVA",
          "channelTitle": "MrBeast",
          "defaultAudioLanguage": "en",
          "defaultLanguage": "en",
          "description": "",
          "liveBroadcastContent": "none",
          "localized": {
           "description": "",
           "title": "Running With Bigger And Bigger Lunchlys"
          },
          "publishedAt": "2024-09-20T16:00:00Z",
          "thumbnails": {
           "default": {
            "height": 90,
            "url": "https://i.ytimg.com/vi/nbzQdlWrcnk/default.jpg",
            "width": 120
           },
           "high": {
            "height": 360,
            "url": "https://i.ytimg.com/vi/nbzQdlWrcnk/hqdefault.jpg",
            "width": 480
           },
           "maxres": {
            "height": 720,
            "url": "https://i.ytimg.com/vi/nbzQdlWrcnk/maxresdefault.jpg",
            "width": 1280
           },
           "medium": {
            "height": 180,
            "url": "https://i.ytimg.com/vi/nbzQdlWrcnk/mqdefault.jpg",
            "width": 320
           },
           "standard": {
            "height": 480,
            "url": "https://i.ytimg.com/vi/nbzQdlWrcnk/sddefault.jpg",
            "width": 640
           }
          },
          "title": "Running With Bigger And Bigger Lunchlys"
         },
         "statistics": {
          "commentCount": "9522",
          "favoriteCount": "0",
          "likeCount": "7700793",
          "viewCount": "270763506"
         }
        },
        {
         "contentDetails": {
          "caption": "false",
          "contentRating": {},
          "definition": "hd",
          "dimension": "2d",
          "duration": "PT17S",
          "licensedContent": true,
          "projection": "rectangular"
         },
         "etag": "8-Kx_hQXfE7xU4cQFAV9_AgYS3k",
         "id": "8krJy31Diow",
         "kind": "youtube#video",
         "snippet": {
          "categoryId": "24",
          "channelId": "UCX6OQ3DkcsbYNE6H8uQQuVA",
          "channelTitle": "MrBeast",
          "defaultAudioLanguage": "en",
          "defaultLanguage": "en",
          "description": "",
          "liveBroadcastContent": "none",
          "localized": {
           "description": "",
           "title": "Holding Bigger And Bigger Dogs"
          },
          "publishedAt": "2024-09-16T18:00:00Z",
          "thumbnails": {
           "default": {
            "height": 90,
            "url": "https://i.ytimg.com/vi/8krJy31Diow/default.jpg",
            "width": 120
           },
           "high": {
            "height": 360,
            "url": "https://i.ytimg.com/vi/8krJy31Diow/hqdefault.jpg",
            "width": 480
           },
           "maxres": {
            "height": 720,
            "url": "https://i.ytimg.com/vi/8krJy31Diow/maxresdefault.jpg",
            "width": 1280
           },
           "medium": {
            "height": 180,
            "url": "https://i.ytimg.com/vi/8krJy31Diow/mqdefault.jpg",
            "width": 320
           },
           "standard": {
            "height": 480,
            "url": "https://i.ytimg.com/vi/8krJy31Diow/sddefault.jpg",
            "width": 640
           }
          },
          "title": "Holding Bigger And Bigger Dogs"
         },
         "statistics": {
          "commentCount": "8143",
          "favoriteCount": "0",
          "likeCount": "7387858",
          "viewCount": "247714648"
         }
        },
        {
         "contentDetails": {
          "caption": "true",
          "contentRating": {},
          "definition": "hd",
          "dimension": "2d",
          "duration": "PT31M48S",
          "licensedContent": true,
          "projection": "rectangular"
         },
         "etag": "510Y7bNeoIdvrzr7zFAwetsXSo8",
         "id": "aRcUVhVlSHg",
         "kind": "youtube#video",
         "snippet": {
          "categoryId": "24",
          "channelId": "UCX6OQ3DkcsbYNE6H8uQQuVA",
          "channelTitle": "MrBeast",
          "defaultAudioLanguage": "en",
          "defaultLanguage": "en",
          "description": "Some of these strategies were wild!\nWet things clean better than dry things, so ditch the toilet paper and get confidently clean with XL Flushable DUDE Wipes! Try them here, DUDE: https://amazon.com/dudewipes\n\nContestants featured and their prior experience \n\nWOMEN: \n• Phaedra: Was on Naked and Afraid\n• Julia: Was on Naked and Afraid\n• Talia: 10 days in the Everglades \n• Hannah: a weekend camping \n• Izzy: couple days camping\n\nMEN: \n• Joshua: 20 days solo backpacking \n• Patrick: weekend camping \n• Tj: backpacking guide: (15 years of outdoor experience) - a week consecutive outside living off land \n• Cameron: been camping\n• Sami: On Survivor: 21 days\n\nNew Merch - https://mrbeast.store\n\nCheck out Viewstats! - https://www.viewstats.com/\n\nSUBSCRIBE OR I TAKE YOUR DOG\n╔═╦╗╔╦╗╔═╦═╦╦╦╦╗╔═╗\n║╚╣║║║╚╣╚╣╔╣╔╣║╚╣═╣ \n╠╗║╚╝║║╠╗║╚╣║║║║║═╣\n╚═╩══╩═╩═╩═╩╝╚╩═╩═╝\n\nFor any questions or inquiries regarding this video, please reach out to chucky@mrbeastbusiness.com\n\nMusic Provided by https://www.extrememusic.com\n\n----------------------------------------------------------------\nfollow all of these or i will kick you\n• Facebook - https://www.facebook.com/MrBeast6000/\n• Twitter - https://twitter.com/MrBeast\n•  Instagram - https://www.instagram.com/mrbeast\n•  Im Hiring! - https://www.mrbeastjobs.com/\n--------------------------------------------------------------------",
          "liveBroadcastContent": "none",
          "localized": {
           "description": "Some of these strategies were wild!\nWet things clean better than dry things, so ditch the toilet paper and get confidently clean with XL Flushable DUDE Wipes! Try them here, DUDE: https://amazon.com/dudewipes\n\nContestants featured and their prior experience \n\nWOMEN: \n• Phaedra: Was on Naked and Afraid\n• Julia: Was on Naked and Afraid\n• Talia: 10 days in the Everglades \n• Hannah: a weekend camping \n• Izzy: couple days camping\n\nMEN: \n• Joshua: 20 days solo backpacking \n• Patrick: weekend camping \n• Tj: backpacking guide: (15 years of outdoor experience) - a week consecutive outside living off land \n• Cameron: been camping\n• Sami: On Survivor: 21 days\n\nNew Merch - https://mrbeast.store\n\nCheck out Viewstats! - https://www.viewstats.com/\n\nSUBSCRIBE OR I TAKE YOUR DOG\n╔═╦╗╔╦╗╔═╦═╦╦╦╦╗╔═╗\n║╚╣║║║╚╣╚╣╔╣╔╣║╚╣═╣ \n╠╗║╚╝║║╠╗║╚╣║║║║║═╣\n╚═╩══╩═╩═╩═╩╝╚╩═╩═╝\n\nFor any questions or inquiries regarding this video, please reach out to chucky@mrbeastbusiness.com\n\nMusic Provided by https://www.extrememusic.com\n\n----------------------------------------------------------------\nfollow all of these or i will kick you\n• Facebook - https://www.facebook.com/MrBeast6000/\n• Twitter - https://twitter.com/MrBeast\n•  Instagram - https://www.instagram.com/mrbeast\n•  Im Hiring! - https://www.mrbeastjobs.com/\n--------------------------------------------------------------------",
           "title": "Men Vs Women Survive The Wilderness For $500,000"
          },
          "publishedAt": "2024-09-07T16:00:00Z",
          "thumbnails": {
           "default": {
            "height": 90,
            "url": "https://i.ytimg.com/vi/aRcUVhVlSHg/default.jpg",
            "width": 120
           },
           "high": {
            "height": 360,
            "url": "https://i.ytimg.com/vi/aRcUVhVlSHg/hqdefault.jpg",
            "width": 480
           },
           "maxres": {
            "height": 720,
            "url": "https://i.ytimg.com/vi/aRcUVhVlSHg/maxresdefault.jpg",
            "width": 1280
           },
           "medium": {
            "height": 180,
            "url": "https://i.ytimg.com/vi/aRcUVhVlSHg/mqdefault.jpg",
            "width": 320
           },
           "standard": {
            "height": 480,
            "url": "https://i.ytimg.com/vi/aRcUVhVlSHg/sddefault.jpg",
            "width": 640
           }
          },
          "title": "Men Vs Women Survive The Wilderness For $500,000"
         },
         "statistics": {
          "commentCount": "49101",
          "favoriteCount": "0",
          "likeCount": "3990560",
          "viewCount": "168091225"
         }
        },
        {
         "contentDetails": {
          "caption": "false",
          "contentRating": {},
          "definition": "hd",
          "dimension": "2d",
          "duration": "PT20S",
          "licensedContent": true,
          "projection": "rectangular"
         },
         "etag": "P4IlePQWpqenxT--ZutH1Xa8O-I",
         "id": "Jo7sfpeWqwE",
         "kind": "youtube#video",
         "snippet": {
          "categoryId": "24",
          "channelId": "UCX6OQ3DkcsbYNE6H8uQQuVA",
          "channelTitle": "MrBeast",
          "defaultAudioLanguage": "en",
          "defaultLanguage": "en",
          "description": "",
          "liveBroadcastContent": "none",
          "localized": {
           "description": "",
           "title": "Will A Guitar Boat Hold My Weight?"
          },
          "publishedAt": "2024-09-05T16:00:01Z",
          "thumbnails": {
           "default": {
            "height": 90,
            "url": "https://i.ytimg.com/vi/Jo7sfpeWqwE/default.jpg",
            "width": 120
           },
           "high": {
            "height": 360,
            "url": "https://i.ytimg.com/vi/Jo7sfpeWqwE/hqdefault.jpg",
            "width": 480
           },
           "maxres": {
            "height": 720,
            "url": "https://i.ytimg.com/vi/Jo7sfpeWqwE/maxresdefault.jpg",
            "width": 1280
           },
           "medium": {
            "height": 180,
            "url": "https://i.ytimg.com/vi/Jo7sfpeWqwE/mqdefault.jpg",
            "width": 320
           },
           "standard": {
            "height": 480,
            "url": "https://i.ytimg.com/vi/Jo7sfpeWqwE/sddefault.jpg",
            "width": 640
           }
          },
          "title": "Will A Guitar Boat Hold My Weight?"
         },
         "statistics": {
          "commentCount": "14478",
          "favoriteCount": "0",
          "likeCount": "17438772",
          "viewCount": "654824530"
         }
        },
        {
         "contentDetails": {
          "caption": "false",
          "contentRating": {},
          "definition": "hd",
          "dimension": "2d",
          "duration": "PT37S",
          "licensedContent": true,
          "projection": "rectangular"
         },
         "etag": "Y3VFpnTajmeEK1lR_1fBuPDmYZ8",
         "id": "QtD-CeUdRUQ",
         "kind": "youtube#video",
         "snippet": {
          "categoryId": "24",
          "channelId": "UCX6OQ3DkcsbYNE6H8uQQuVA",
          "channelTitle": "MrBeast",
          "defaultAudioLanguage": "en",
          "defaultLanguage": "en",
          "description": "",
          "liveBroadcastContent": "none",
          "localized": {
           "description": "",
           "title": "Real Or Cake For $10,000"
          },
          "publishedAt": "2024-08-29T16:00:00Z",
          "thumbnails": {
           "default": {
            "height": 90,
            "url": "https://i.ytimg.com/vi/QtD-CeUdRUQ/default.jpg",
            "width": 120
           },
           "high": {
            "height": 360,
            "url": "https://i.ytimg.com/vi/QtD-CeUdRUQ/hqdefault.jpg",
            "width": 480
           },
           "maxres": {
            "height": 720,
            "url": "https://i.ytimg.com/vi/QtD-CeUdRUQ/maxresdefault.jpg",
            "width": 1280
           },
           "medium": {
            "height": 180,
            "url": "https://i.ytimg.com/vi/QtD-CeUdRUQ/mqdefault.jpg",
            "width": 320
           },
           "standard": {
            "height": 480,
            "url": "https://i.ytimg.com/vi/QtD-CeUdRUQ/sddefault.jpg",
            "width": 640
           }
          },
          "title": "Real Or Cake For $10,000"
         },
         "statistics": {
          "commentCount": "13514",
          "favoriteCount": "0",
          "likeCount": "6861182",
          "viewCount": "165248698"
         }
        },
        {
         "contentDetails": {
          "caption": "true",
          "contentRating": {},
          "definition": "hd",
          "dimension": "2d",
          "duration": "PT17M59S",
          "licensedContent": true,
          "projection": "rectangular"
         },
         "etag": "h6NErVFdeFUETKJfreusdqAH1KQ",
         "id": "ndAQfTzlVjc",
         "kind": "youtube#video",
         "snippet": {
          "categoryId": "24",
          "channelId": "UCX6OQ3DkcsbYNE6H8uQQuVA",
          "channelTitle": "MrBeast",
          "defaultAudioLanguage": "en",
          "defaultLanguage": "en",
          "description": "I didn’t think surviving in a cave would be that challenging\nCheck out Swarms!  It’s the coolest collectible ever with over 100 different Swarms to collect! It’s a mind-blowingly fun experiment - just mix, shake and reveal your micro beast! Swarms available now. #ad \n\n\nNew Merch - https://mrbeast.store\n\nCheck out Viewstats! - https://www.viewstats.com/\n\nSUBSCRIBE OR I TAKE YOUR DOG\n╔═╦╗╔╦╗╔═╦═╦╦╦╦╗╔═╗\n║╚╣║║║╚╣╚╣╔╣╔╣║╚╣═╣ \n╠╗║╚╝║║╠╗║╚╣║║║║║═╣\n╚═╩══╩═╩═╩═╩╝╚╩═╩═╝\n\nFor any questions or inquiries regarding this video, please reach out to chucky@mrbeastbusiness.com\n\nMusic Provided by https://www.extrememusic.com\n\n----------------------------------------------------------------\nfollow all of these or i will kick you\n• Facebook - https://www.facebook.com/MrBeast6000/\n• Twitter - https://twitter.com/MrBeast\n•  Instagram - https://www.instagram.com/mrbeast\n•  Im Hiring! - https://www.mrbeastjobs.com/\n--------------------------------------------------------------------",
          "liveBroadcastContent": "none",
          "localized": {
           "description": "I didn’t think surviving in a cave would be that challenging\nCheck out Swarms!  It’s the coolest collectible ever with over 100 different Swarms to collect! It’s a mind-blowingly fun experiment - just mix, shake and reveal your micro beast! Swarms available now. #ad \n\n\nNew Merch - https://mrbeast.store\n\nCheck out Viewstats! - https://www.viewstats.com/\n\nSUBSCRIBE OR I TAKE YOUR DOG\n╔═╦╗╔╦╗╔═╦═╦╦╦╦╗╔═╗\n║╚╣║║║╚╣╚╣╔╣╔╣║╚╣═╣ \n╠╗║╚╝║║╠╗║╚╣║║║║║═╣\n╚═╩══╩═╩═╩═╩╝╚╩═╩═╝\n\nFor any questions or inquiries regarding this video, please reach out to chucky@mrbeastbusiness.com\n\nMusic Provided by https://www.extrememusic.com\n\n----------------------------------------------------------------\nfollow all of these or i will kick you\n• Facebook - https://www.facebook.com/MrBeast6000/\n• Twitter - https://twitter.com/MrBeast\n•  Instagram - https://www.instagram.com/mrbeast\n•  Im Hiring! - https://www.mrbeastjobs.com/\n--------------------------------------------------------------------",
           "title": "7 Days Stranded In A Cave"
          },
          "publishedAt": "2024-08-17T16:00:00Z",
          "thumbnails": {
           "default": {
            "height": 90,
            "url": "https://i.ytimg.com/vi/ndAQfTzlVjc/default.jpg",
            "width": 120
           },
           "high": {
            "height": 360,
            "url": "https://i.ytimg.com/vi/ndAQfTzlVjc/hqdefault.jpg",
            "width": 480
           },
           "maxres": {
            "height": 720,
            "url": "https://i.ytimg.com/vi/ndAQfTzlVjc/maxresdefault.jpg",
            "width": 1280
           },
           "medium": {
            "height": 180,
            "url": "https://i.ytimg.com/vi/ndAQfTzlVjc/mqdefault.jpg",
            "width": 320
           },
           "standard": {
            "height": 480,
            "url": "https://i.ytimg.com/vi/ndAQfTzlVjc/sddefault.jpg",
            "width": 640
           }
          },
          "title": "7 Days Stranded In A Cave"
         },
         "statistics": {
          "commentCount": "93246",
          "favoriteCount": "0",
          "likeCount": "4437007",
          "viewCount": "147217835"
         }
        }
       ],
       "kind": "youtube#videoListResponse",
       "pageInfo": {
        "resultsPerPage": 49,
        "totalResults": 49
       }
      },
      "text/plain": [
       "<IPython.core.display.JSON object>"
      ]
     },
     "execution_count": 5,
     "metadata": {
      "application/json": {
       "expanded": false,
       "root": "root"
      }
     },
     "output_type": "execute_result"
    }
   ],
   "source": [
    "request = youtube.videos().list(\n",
    "        part=\"snippet,contentDetails,statistics\",\n",
    "        id = video_ids[0:49]\n",
    "    )\n",
    "response = request.execute()\n",
    "JSON(response)"
   ]
  },
  {
   "cell_type": "code",
   "execution_count": 11,
   "id": "c320782a-f8aa-4d65-a37e-e9581a6be1ba",
   "metadata": {},
   "outputs": [],
   "source": [
    "#create a dictionary which will store columns of our data\n",
    "my_video_data = {\n",
    "    'video_id' : [],\n",
    "    'channel_title' : [],\n",
    "    'title' : [],\n",
    "    'description' : [],\n",
    "    'published_at' : [],\n",
    "    'view_count' : [],\n",
    "    'like_Count' : [],\n",
    "    'favourite_Count' : [],\n",
    "    'duration' : [],\n",
    "    'caption' : [],\n",
    "    'defination' : [],\n",
    "    'commentCount' : []\n",
    "}\n"
   ]
  },
  {
   "cell_type": "markdown",
   "id": "32e1202f-2504-44c4-8a28-da8a2858a432",
   "metadata": {},
   "source": [
    "### ->inserting data in dataset"
   ]
  },
  {
   "cell_type": "code",
   "execution_count": null,
   "id": "fe205592-c739-4036-a413-36527188c75a",
   "metadata": {},
   "outputs": [],
   "source": [
    "for item in response['items']:\n",
    "    my_video_data['video_id'].append(item['id'])\n",
    "    my_video_data['channel_title'].append(item['snippet']['channelTitle'])\n",
    "    my_video_data['title'].append(item['snippet']['title'])\n",
    "    my_video_data['description'].append(item['snippet']['description'])\n",
    "    my_video_data['like_Count'].append(item['statistics']['likeCount'])\n",
    "    my_video_data['favourite_Count'].append(item['statistics']['favoriteCount'])\n",
    "    my_video_data['duration'].append(item['contentDetails']['duration'])\n",
    "    my_video_data['caption'].append(item['contentDetails']['caption'])\n",
    "    my_video_data['defination'].append(item['contentDetails']['definition'])\n",
    "    my_video_data['view_count'].append(item['statistics']['viewCount'])\n",
    "    my_video_data['published_at'].append(item['snippet']['publishedAt'])\n",
    "    my_video_data['commentCount'].append(item['statistics']['commentCount'])\n"
   ]
  },
  {
   "cell_type": "markdown",
   "id": "5be5311d-3abd-4d5c-8c5d-35710d8461eb",
   "metadata": {},
   "source": [
    "### ->Displaying data"
   ]
  },
  {
   "cell_type": "code",
   "execution_count": null,
   "id": "39d47c37-ea01-4558-bacc-0c134bba39c2",
   "metadata": {},
   "outputs": [],
   "source": [
    "df = pd.DataFrame(my_video_data)\n",
    "df.head()"
   ]
  },
  {
   "cell_type": "code",
   "execution_count": 16,
   "id": "957caafe-791b-4c9e-bcfe-98d2c2c252e1",
   "metadata": {},
   "outputs": [
    {
     "data": {
      "text/plain": [
       "video_id           False\n",
       "channel_title      False\n",
       "title              False\n",
       "description        False\n",
       "published_at       False\n",
       "view_count         False\n",
       "like_Count         False\n",
       "favourite_Count    False\n",
       "duration           False\n",
       "caption            False\n",
       "defination         False\n",
       "commentCount       False\n",
       "dtype: bool"
      ]
     },
     "execution_count": 16,
     "metadata": {},
     "output_type": "execute_result"
    }
   ],
   "source": [
    "#checking for null values\n",
    "df.isnull().any()"
   ]
  },
  {
   "cell_type": "code",
   "execution_count": null,
   "id": "3e5587bf-e40f-4007-91d1-30a5a09b7ce7",
   "metadata": {},
   "outputs": [],
   "source": []
  }
 ],
 "metadata": {
  "kernelspec": {
   "display_name": "Python 3 (ipykernel)",
   "language": "python",
   "name": "python3"
  },
  "language_info": {
   "codemirror_mode": {
    "name": "ipython",
    "version": 3
   },
   "file_extension": ".py",
   "mimetype": "text/x-python",
   "name": "python",
   "nbconvert_exporter": "python",
   "pygments_lexer": "ipython3",
   "version": "3.12.2"
  }
 },
 "nbformat": 4,
 "nbformat_minor": 5
}
